{
 "cells": [
  {
   "cell_type": "markdown",
   "metadata": {},
   "source": [
    "# Overview"
   ]
  },
  {
   "cell_type": "markdown",
   "metadata": {},
   "source": [
    "Welcome to _Introduction to OpenMP_.\n",
    "This course covers different OpenMP related topics.\n",
    "Click on any of the topics to open the corresponding material."
   ]
  },
  {
   "cell_type": "markdown",
   "metadata": {
    "tags": []
   },
   "source": [
    "## Course Structure"
   ]
  },
  {
   "cell_type": "markdown",
   "metadata": {},
   "source": [
    "The course is split into two parts\n",
    "1. Foundations of Programming with OpenMP\n",
    "2. Advanced Topics"
   ]
  },
  {
   "cell_type": "markdown",
   "metadata": {},
   "source": [
    "In total, the course is designed to be covered in twelve hours which are distributed across three days."
   ]
  },
  {
   "cell_type": "markdown",
   "metadata": {},
   "source": [
    "## Content"
   ]
  },
  {
   "cell_type": "markdown",
   "metadata": {},
   "source": [
    "1. [Introduction](material/introduction.ipynb)\n",
    "1. [Examples](material/examples.ipynb)"
   ]
  },
  {
   "cell_type": "markdown",
   "metadata": {},
   "source": [
    "### Part 1\n",
    "3. [Data Environments](material/data-environments.ipynb)\n",
    "1. [Handling Loops](material/loops.ipynb)\n",
    "1. [Reductions](material/reductions.ipynb)\n",
    "1. [Synchronization](material/synchronization.ipynb)\n",
    "1. [Additional Material](material/additional-material.ipynb)"
   ]
  },
  {
   "cell_type": "markdown",
   "metadata": {},
   "source": [
    "### Part 2\n",
    "8. [Performance Considerations](material/performance.ipynb)\n",
    "1. [SIMD](material/simd.ipynb)\n",
    "1. [Tasking](material/tasking.ipynb)\n",
    "1. [Target Offloading](material/target-offloading.ipynb)"
   ]
  },
  {
   "cell_type": "markdown",
   "metadata": {},
   "source": [
    "## Notes on the Workshop Conduction"
   ]
  },
  {
   "cell_type": "markdown",
   "metadata": {},
   "source": [
    "There will be one or two coffee breaks per session, depending on demand -- let me know when things get too dense and a break is needed.\n",
    "\n",
    "The material can be accessed in different ways, depending on what you are accustomed to.\n",
    "* Follow the material in the Jupyter notebooks and use the JupyterLab internal editor where needed.\n",
    "* Mainly work on the terminal\n",
    "    * `file` > `new` > `terminal`\n",
    "    * The source code files for all examples discussed are located at `material/code`"
   ]
  }
 ],
 "metadata": {
  "kernelspec": {
   "display_name": "Python 3.11 (ipykernel)",
   "language": "python",
   "name": "python3"
  },
  "language_info": {
   "codemirror_mode": {
    "name": "ipython",
    "version": 3
   },
   "file_extension": ".py",
   "mimetype": "text/x-python",
   "name": "python",
   "nbconvert_exporter": "python",
   "pygments_lexer": "ipython3",
   "version": "3.11.0"
  }
 },
 "nbformat": 4,
 "nbformat_minor": 4
}
