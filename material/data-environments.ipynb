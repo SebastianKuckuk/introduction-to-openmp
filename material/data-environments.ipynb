{
 "cells": [
  {
   "cell_type": "markdown",
   "id": "47b34c87-dfc3-4d84-a8f0-1571aeb0daa0",
   "metadata": {
    "tags": []
   },
   "source": [
    "# Data Environments"
   ]
  },
  {
   "cell_type": "markdown",
   "id": "7591a899-33bd-4cd4-a317-4ac0d2a0de73",
   "metadata": {
    "tags": []
   },
   "source": [
    "## Overview"
   ]
  },
  {
   "cell_type": "markdown",
   "id": "9254f35a-5884-4a70-86c9-35079ba9d61b",
   "metadata": {},
   "source": [
    "Each region defines a data environment which controls how variables are made available to executing threads ([OpenMP 5.1 - 2.21](https://www.openmp.org/spec-html/5.1/openmpse29.html)).\n",
    "\\\n",
    "Variables can be\n",
    "\n",
    "|                 |                                                                         |                                                                                |\n",
    "|-----------------|-------------------------------------------------------------------------|--------------------------------------------------------------------------------|\n",
    "| `shared`        | all threads access the same variable                                    | [OpenMP 5.1 - 2.21.4.2](https://www.openmp.org/spec-html/5.1/openmpsu116.html) |\n",
    "| `private`       | each thread holds its own version of the variable in the current region | [OpenMP 5.1 - 2.21.4.3](https://www.openmp.org/spec-html/5.1/openmpsu116.html) |\n",
    "| `threadprivate` | each thread holds its own version of the variable across regions        | [OpenMP 5.1 - 2.21.2](https://www.openmp.org/spec-html/5.1/openmpsu114.html)   |"
   ]
  },
  {
   "cell_type": "markdown",
   "id": "4420c81a-ea62-43fd-b7bf-2f80d08d4e7f",
   "metadata": {},
   "source": [
    "Let's first load our ICE magic extension and investigate the effects of *shared* and *private*."
   ]
  },
  {
   "cell_type": "code",
   "execution_count": null,
   "id": "9f31b250-5427-4a55-9095-dd09061fe91c",
   "metadata": {
    "tags": []
   },
   "outputs": [],
   "source": [
    "%load_ext ice_magic"
   ]
  },
  {
   "cell_type": "markdown",
   "id": "85bc90e6-0fa6-4ece-8179-a803e1df1ed2",
   "metadata": {},
   "source": [
    "### Shared"
   ]
  },
  {
   "cell_type": "code",
   "execution_count": null,
   "id": "259ddfa2-fa99-4d82-afe4-996cbccb50d2",
   "metadata": {
    "tags": []
   },
   "outputs": [],
   "source": [
    "%%cpp_omp -o code/data-env/shared.cpp -e OMP_NUM_THREADS=3\n",
    "\n",
    "int sharedVar = 20;\n",
    "#pragma omp parallel shared(sharedVar)\n",
    "    std::cout << sharedVar++ << std::endl; // race condition\n",
    "\n",
    "std::cout << sharedVar++ << std::endl;"
   ]
  },
  {
   "cell_type": "markdown",
   "id": "3c607a52-42a4-4af2-9b83-2ff7eb938c7a",
   "metadata": {},
   "source": [
    "<div class=\"alert alert-block alert-warning\"> <b>Warning:</b> don't do this -- it introduces a race condition </div>"
   ]
  },
  {
   "cell_type": "markdown",
   "id": "0d6f3e8d-47f2-43b7-9e39-a5b9a27beb3e",
   "metadata": {},
   "source": [
    "### Private"
   ]
  },
  {
   "cell_type": "code",
   "execution_count": null,
   "id": "e77bdef7-f9cc-4b1b-aa53-710c4a79e6ae",
   "metadata": {
    "tags": []
   },
   "outputs": [],
   "source": [
    "%%cpp_omp -o code/data-env/private.cpp -e OMP_NUM_THREADS=3\n",
    "\n",
    "int privateVar = 10;\n",
    "#pragma omp parallel private(privateVar)\n",
    "    std::cout << privateVar++ << std::endl;\n",
    "\n",
    "std::cout << privateVar << std::endl;"
   ]
  },
  {
   "cell_type": "markdown",
   "id": "a5e91f50-696f-4ae5-a5de-0d4b87e5fc52",
   "metadata": {
    "tags": []
   },
   "source": [
    "Private variables are uninitialized and cleaned up at the end of the data environment.\n",
    "\\\n",
    "Marking variables `firstprivate` copies in the value from the original variable when *entering* the region ([OpenMP 5.1 - 2.21.4.4](https://www.openmp.org/spec-html/5.1/openmpsu116.html)).\n",
    "\\\n",
    "For loops, `lastprivate` copies the value of the last iteration to the original variable when *exiting* the region (see the lastprivate section in the [loops notebook](loops.ipynb#lastprivate))."
   ]
  },
  {
   "cell_type": "code",
   "execution_count": null,
   "id": "499d1229-6796-44ab-a16d-a967bd625845",
   "metadata": {
    "tags": []
   },
   "outputs": [],
   "source": [
    "%%cpp_omp -o code/data-env/firstprivate.cpp -e OMP_NUM_THREADS=3\n",
    "\n",
    "int privateVar = 10;\n",
    "#pragma omp parallel firstprivate(privateVar)\n",
    "    std::cout << ++privateVar << std::endl;\n",
    "\n",
    "std::cout << privateVar << std::endl;"
   ]
  },
  {
   "cell_type": "markdown",
   "id": "402caec8-36d8-492c-8ef0-9652ea463ed3",
   "metadata": {},
   "source": [
    "## Default Behavior"
   ]
  },
  {
   "cell_type": "markdown",
   "id": "6fc244ae-48c9-43e8-99b5-52d3072a82d0",
   "metadata": {},
   "source": [
    "The default behavior follows specific data-sharing attribute rules ([OpenMP 5.1 - 2.21.1](https://www.openmp.org/spec-html/5.1/openmpsu113.html)).\n",
    "\\\n",
    "Relevant in this scope is that most variables are *shared* by default if not specified otherwise.\n",
    "Exceptions are\n",
    "* non-static variables declared in the construct,\n",
    "* non-static variables declared in called functions, and\n",
    "* iteration variables of [worksharing loops](loops.ipynb)."
   ]
  },
  {
   "cell_type": "markdown",
   "id": "236e350c-15b8-44be-b464-2aecfeb74af9",
   "metadata": {},
   "source": [
    "### Variables from the Enclosing Scope"
   ]
  },
  {
   "cell_type": "code",
   "execution_count": null,
   "id": "cb96757d-a415-4d89-bb46-4a31830defb7",
   "metadata": {
    "tags": []
   },
   "outputs": [],
   "source": [
    "%%cpp_omp -o code/data-env/def-behavior.cpp -e OMP_NUM_THREADS=3\n",
    "\n",
    "int someVar = 30;\n",
    "#pragma omp parallel\n",
    "    // bad practice -- race condition\n",
    "    std::cout << ++someVar << std::endl;\n",
    "\n",
    "std::cout << someVar << std::endl;"
   ]
  },
  {
   "cell_type": "markdown",
   "id": "d2e2e31e-6ee0-476b-9cb8-7ef35e605914",
   "metadata": {},
   "source": [
    "### Static Variables from the Enclosing Scope"
   ]
  },
  {
   "cell_type": "code",
   "execution_count": null,
   "id": "6d49891d-0cff-4787-8286-a025c373d888",
   "metadata": {
    "tags": []
   },
   "outputs": [],
   "source": [
    "%%cpp_omp -o code/data-env/def-behavior-static.cpp -e OMP_NUM_THREADS=3\n",
    "\n",
    "static int staticVar = 30;\n",
    "#pragma omp parallel\n",
    "    // bad practice -- race condition\n",
    "    std::cout << ++staticVar << std::endl;\n",
    "\n",
    "std::cout << staticVar << std::endl;"
   ]
  },
  {
   "cell_type": "markdown",
   "id": "69b3769a-5048-4c9b-b798-b5eb63579ef4",
   "metadata": {},
   "source": [
    "### Local Variables"
   ]
  },
  {
   "cell_type": "code",
   "execution_count": null,
   "id": "a8437192-2708-4301-9804-a9e0f8717d7f",
   "metadata": {
    "tags": []
   },
   "outputs": [],
   "source": [
    "%%cpp_omp -o code/data-env/def-behavior-local.cpp -e OMP_NUM_THREADS=3\n",
    "\n",
    "int someVar = 30;\n",
    "#pragma omp parallel\n",
    "{\n",
    "    int localVar = omp_get_thread_num();\n",
    "    std::cout << ++localVar << std::endl;\n",
    "}\n",
    "\n",
    "std::cout << someVar << std::endl;"
   ]
  },
  {
   "cell_type": "markdown",
   "id": "b971801a-ef16-46ce-a7c7-8a1e80c63843",
   "metadata": {},
   "source": [
    "### Static Local Variables"
   ]
  },
  {
   "cell_type": "code",
   "execution_count": null,
   "id": "50bb345f-8989-48e3-8e54-9d98634fd9e6",
   "metadata": {
    "tags": []
   },
   "outputs": [],
   "source": [
    "%%cpp_omp -o code/data-env/def-behavior-local-static.cpp -e OMP_NUM_THREADS=3\n",
    "\n",
    "int someVar = 30;\n",
    "#pragma omp parallel\n",
    "{\n",
    "    // bad practice -- race condition\n",
    "    static int localVar = omp_get_thread_num();\n",
    "    std::cout << ++localVar << std::endl;\n",
    "}\n",
    "\n",
    "std::cout << someVar << std::endl;"
   ]
  },
  {
   "cell_type": "markdown",
   "id": "43f38c05-7445-4a16-8769-4c02631262af",
   "metadata": {},
   "source": [
    "### Default Clause"
   ]
  },
  {
   "cell_type": "markdown",
   "id": "4c129f1d-9559-4209-9f06-8bd48cc87f84",
   "metadata": {},
   "source": [
    "Defaults can be changed with `default(_)` where `_` is one of `shared`, `none`, and since OpenMP v5.0 also `private` and `firstprivate` ([OpenMP 5.1 - 2.21.4.1](https://www.openmp.org/spec-html/5.1/openmpsu116.html))."
   ]
  },
  {
   "cell_type": "markdown",
   "id": "7ce8e8c3-d5fc-4e63-9748-c15224de281c",
   "metadata": {},
   "source": [
    "<div class=\"alert alert-block alert-info\"> <b>Note:</b> <code>default(none)</code> is recommended for catching errors early </div>"
   ]
  },
  {
   "cell_type": "code",
   "execution_count": null,
   "id": "793d29ab-6a69-48ad-9f3e-78ff60bf74fe",
   "metadata": {
    "tags": []
   },
   "outputs": [],
   "source": [
    "%%cpp_omp -o code/data-env/default.cpp -e OMP_NUM_THREADS=3\n",
    "\n",
    "int someVar = 30;\n",
    "#pragma omp parallel default(none) //firstprivate(someVar) shared(std::cout)\n",
    "    std::cout << ++someVar << std::endl;\n",
    "\n",
    "std::cout << someVar << std::endl;"
   ]
  }
 ],
 "metadata": {
  "kernelspec": {
   "display_name": "Python 3.11 (ipykernel)",
   "language": "python",
   "name": "python3"
  },
  "language_info": {
   "codemirror_mode": {
    "name": "ipython",
    "version": 3
   },
   "file_extension": ".py",
   "mimetype": "text/x-python",
   "name": "python",
   "nbconvert_exporter": "python",
   "pygments_lexer": "ipython3",
   "version": "3.11.0"
  }
 },
 "nbformat": 4,
 "nbformat_minor": 5
}
