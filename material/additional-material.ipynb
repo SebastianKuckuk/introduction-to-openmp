{
 "cells": [
  {
   "cell_type": "markdown",
   "id": "36164bad-84e4-4000-b73d-10d20538b975",
   "metadata": {},
   "source": [
    "# Additional Material"
   ]
  },
  {
   "cell_type": "markdown",
   "id": "c09287c4-c830-4f79-b6fa-5294bcfacbdc",
   "metadata": {},
   "source": [
    "## Overview"
   ]
  },
  {
   "cell_type": "markdown",
   "id": "c4ec57c3-7fbd-4c77-875e-eb0530d7dcd9",
   "metadata": {},
   "source": [
    "This notebook covers different bits and pieces of OpenMP that are relevant in specialized cases."
   ]
  },
  {
   "cell_type": "code",
   "execution_count": null,
   "id": "f7ee64d2-8e14-45e1-b648-711e65866f7e",
   "metadata": {
    "tags": []
   },
   "outputs": [],
   "source": [
    "%load_ext ice.magic"
   ]
  },
  {
   "cell_type": "markdown",
   "id": "27c80910-885f-4df8-b2bc-4935bb335215",
   "metadata": {},
   "source": [
    "## OpenMP Version"
   ]
  },
  {
   "cell_type": "markdown",
   "id": "65c2341e-3981-4e27-b7a8-6de7cf841c78",
   "metadata": {},
   "source": [
    "When OpenMP is enabled, the `_OPENMP` macro name is defined.\n",
    "It holds information about the OpenMP version supported and is encoded as date in the form of `yyyymm`."
   ]
  },
  {
   "cell_type": "code",
   "execution_count": null,
   "id": "f01ed2fd-9396-4c08-aa8f-3f03775171a5",
   "metadata": {
    "tags": []
   },
   "outputs": [],
   "source": [
    "%%cpp_omp -o code/additional/omp-version.cpp\n",
    "\n",
    "std::cout << _OPENMP << std::endl;"
   ]
  },
  {
   "cell_type": "markdown",
   "id": "7826b753",
   "metadata": {},
   "source": [
    "\n",
    "| Value  | Date     | Version |\n",
    "|--------|----------|---------|\n",
    "| 199810 | Oct 1998 | 1.0     |\n",
    "| 200203 | Mar 2002 | 2.0     |\n",
    "| 200505 | May 2005 | 2.5     |\n",
    "| 200805 | May 2008 | 3.0     |\n",
    "| 201107 | Jul 2011 | 3.1     |\n",
    "| 201307 | Jul 2013 | 4.0     |\n",
    "| 201511 | Nov 2015 | 4.5     |\n",
    "| 201811 | Nov 2018 | 5.0     |\n",
    "| 202011 | Nov 2020 | 5.1     |\n",
    "| 202111 | Nov 2021 | 5.2     |"
   ]
  },
  {
   "cell_type": "markdown",
   "id": "094ec977",
   "metadata": {},
   "source": [
    "## Directive Formats"
   ]
  },
  {
   "cell_type": "markdown",
   "id": "f6df63d3",
   "metadata": {},
   "source": [
    "\n",
    "OpenMP support different directive formats ([OpenMP 5.1 - 2.1](https://www.openmp.org/spec-html/5.1/openmpse9.html))."
   ]
  },
  {
   "cell_type": "code",
   "execution_count": null,
   "id": "63d0907e",
   "metadata": {},
   "outputs": [],
   "source": [
    "%%cpp_omp -o code/additional/directives.cpp\n",
    "\n",
    "//# pragma directive\n",
    "#pragma omp parallel num_threads(4)\n",
    "    #pragma omp critical\n",
    "        std::cout << omp_get_thread_num() << std::endl;\n",
    "\n",
    "//# pragma operator\n",
    "_Pragma(\"omp parallel num_threads(4)\")\n",
    "    _Pragma(\"omp critical\")\n",
    "        std::cout << omp_get_thread_num() << std::endl;\n",
    "\n",
    "//# c++ attribute specifier\n",
    "[[ omp :: sequence(directive(parallel, num_threads(4)), directive(critical)) ]]\n",
    "        std::cout << omp_get_thread_num() << std::endl;"
   ]
  },
  {
   "cell_type": "markdown",
   "id": "ab29cecd-db6a-4caf-a7c0-554dac1f5cb9",
   "metadata": {
    "tags": []
   },
   "source": [
    "## Sections"
   ]
  },
  {
   "cell_type": "markdown",
   "id": "f35b5153-b87e-4de4-ab26-afeccf9d0bcc",
   "metadata": {
    "tags": []
   },
   "source": [
    "OpenMP supports 'unstructured' parallelism via parallel sections ([OpenMP 5.1 - 2.10.1](https://www.openmp.org/spec-html/5.1/openmpsu42.html)).\n",
    "\\\n",
    "Inside a parallel region, this is done by spanning a `sections` region.\n",
    "Inside, multiple `section` items are specified, and each is executed by one of the threads of the enclosing parallel region."
   ]
  },
  {
   "cell_type": "code",
   "execution_count": null,
   "id": "eb64333c-e371-49bc-8e1c-fe07fa84597f",
   "metadata": {},
   "outputs": [],
   "source": [
    "%%cpp_omp -o code/additional/sections.cpp\n",
    "\n",
    "#pragma omp parallel num_threads(2)\n",
    "{\n",
    "    #pragma omp sections\n",
    "    {\n",
    "        #pragma omp section\n",
    "        {\n",
    "            std::cout << \"section 0, thread \" << omp_get_thread_num() << std::endl;\n",
    "        }\n",
    "\n",
    "        #pragma omp section\n",
    "        {\n",
    "            std::cout << \"section 1, thread \" << omp_get_thread_num() << std::endl;\n",
    "        }\n",
    "    } //# implicit barrier without nowait clause\n",
    "}"
   ]
  },
  {
   "cell_type": "markdown",
   "id": "61bbb0ac",
   "metadata": {},
   "source": [
    "The parallel and sections constructs can also be fused into a single\n",
    "```cpp\n",
    "#pragma omp parallel sections\n",
    "{\n",
    "    // ...\n",
    "}\n",
    "```"
   ]
  },
  {
   "cell_type": "markdown",
   "id": "4ac77552-ddb8-4c17-9fc6-830e5bcca80e",
   "metadata": {},
   "source": [
    "## Flush\n"
   ]
  },
  {
   "cell_type": "markdown",
   "id": "1695a857-1285-4aad-a846-6ae52497ee8b",
   "metadata": {},
   "source": [
    "### The Problem"
   ]
  },
  {
   "cell_type": "markdown",
   "id": "9a51df5a-c7eb-4096-8295-9edd1c696e86",
   "metadata": {},
   "source": [
    "When synchronizing threads explicitly, or exchanging data between them, problems can arise.\n",
    "Consider the following example which might hang indefinitely."
   ]
  },
  {
   "cell_type": "markdown",
   "id": "47db7910-4113-4787-85a1-552182fa82bd",
   "metadata": {},
   "source": [
    "```cpp\n",
    "int flag = 0;\n",
    "\n",
    "#pragma omp parallel num_threads(2)\n",
    "{\n",
    "  if (omp_get_thread_num() == 0) {\n",
    "    flag = 1;\n",
    "  } else {\n",
    "    while (!flag)\n",
    "      std::this_thread::sleep_for(std::chrono::milliseconds(10));\n",
    "  }\n",
    "  /* some work */\n",
    "}\n",
    "```"
   ]
  },
  {
   "cell_type": "markdown",
   "id": "5e5cb25e-290a-4ed5-a1c8-bc64ac2c5cea",
   "metadata": {},
   "source": [
    "The problem arises from the fact that writes from one thread to a shared variable might not be visible to other threads immediately."
   ]
  },
  {
   "cell_type": "markdown",
   "id": "37fde861-45cb-4666-8437-748aa198d4bb",
   "metadata": {},
   "source": [
    "### The Solution"
   ]
  },
  {
   "cell_type": "markdown",
   "id": "805611cc-dc09-42f1-8132-dcbdd14e881c",
   "metadata": {},
   "source": [
    "Manually adding `flush` directives secures that changes are written to and read from memory ([OpenMP 5.1 - 2.19.8](https://www.openmp.org/spec-html/5.1/openmpsu106.html))."
   ]
  },
  {
   "cell_type": "markdown",
   "id": "30bd316e-eccc-4713-8792-c3acea53f11e",
   "metadata": {},
   "source": [
    "<div class=\"alert alert-block alert-info\"> <b>Note:</b> All (implicit and explicit) barriers imply flushing. </div>"
   ]
  },
  {
   "cell_type": "markdown",
   "id": "fad17925-40f5-428b-bc38-13a8b4cc9037",
   "metadata": {},
   "source": [
    "An updated code version is below.\n",
    "While it works, it is expected to be inefficient.\n",
    "Better ways are using [atomic](synchronization.ipynb#Atomic), [masked](synchronization.ipynb#Masked-(replacing-Master)) or refactoring the code to split up the region."
   ]
  },
  {
   "cell_type": "code",
   "execution_count": null,
   "id": "a18cc5fe-f0bc-4f76-aac4-e5a53769753d",
   "metadata": {
    "tags": []
   },
   "outputs": [],
   "source": [
    "%%cpp_omp -o code/additional/flush.cpp\n",
    "\n",
    "int flag = 0;\n",
    "\n",
    "#pragma omp parallel num_threads(2)\n",
    "{\n",
    "  if (omp_get_thread_num() == 0) {\n",
    "    flag = 1;\n",
    "    #pragma omp flush\n",
    "  } else {\n",
    "    while (!flag) {\n",
    "      #pragma omp flush\n",
    "      std::this_thread::sleep_for(std::chrono::milliseconds(10));\n",
    "    }\n",
    "    /* some work */\n",
    "  }\n",
    "}"
   ]
  }
 ],
 "metadata": {
  "kernelspec": {
   "display_name": "Python 3.11 (ipykernel)",
   "language": "python",
   "name": "python3"
  },
  "language_info": {
   "codemirror_mode": {
    "name": "ipython",
    "version": 3
   },
   "file_extension": ".py",
   "mimetype": "text/x-python",
   "name": "python",
   "nbconvert_exporter": "python",
   "pygments_lexer": "ipython3",
   "version": "3.11.0"
  }
 },
 "nbformat": 4,
 "nbformat_minor": 5
}
