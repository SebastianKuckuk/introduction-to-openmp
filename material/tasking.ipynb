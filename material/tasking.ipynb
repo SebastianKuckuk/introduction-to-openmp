{
 "cells": [
  {
   "cell_type": "markdown",
   "metadata": {},
   "source": [
    "# Tasking"
   ]
  },
  {
   "cell_type": "markdown",
   "metadata": {
    "jp-MarkdownHeadingCollapsed": true,
    "tags": []
   },
   "source": [
    "## Overview"
   ]
  },
  {
   "cell_type": "markdown",
   "metadata": {},
   "source": [
    "A task in OpenMP is a unit of work that includes code to execute and its associated data environment.\n",
    "Tasks can be created dynamically during the execution of a program.\n",
    "Each task is executed independently and can be scheduled on any available thread."
   ]
  },
  {
   "cell_type": "markdown",
   "metadata": {},
   "source": [
    "Let's start with a simple, still serial example.\n",
    "First we load our custom magic."
   ]
  },
  {
   "cell_type": "code",
   "execution_count": null,
   "metadata": {
    "tags": []
   },
   "outputs": [],
   "source": [
    "%load_ext ice.magic"
   ]
  },
  {
   "cell_type": "code",
   "execution_count": null,
   "metadata": {},
   "outputs": [],
   "source": [
    "%%cpp_omp -o code/tasking/serial.cpp -t\n",
    "\n",
    "int a = 1, b = 2, c = 3;\n",
    "\n",
    "std::this_thread::sleep_for(std::chrono::milliseconds(10 * a));\n",
    "std::cout << \"thread \" << omp_get_thread_num() << \": a = \" << a << std::endl;\n",
    "\n",
    "std::this_thread::sleep_for(std::chrono::milliseconds(10 * b));\n",
    "std::cout << \"thread \" << omp_get_thread_num() << \": b = \" << b << std::endl;\n",
    "\n",
    "std::this_thread::sleep_for(std::chrono::milliseconds(10 * c));\n",
    "std::cout << \"thread \" << omp_get_thread_num() << \": c = \" << c << std::endl;"
   ]
  },
  {
   "cell_type": "markdown",
   "metadata": {
    "jp-MarkdownHeadingCollapsed": true,
    "tags": []
   },
   "source": [
    "## Task Creation"
   ]
  },
  {
   "cell_type": "markdown",
   "metadata": {},
   "source": [
    "Tasks are created using the `task` directive.\n",
    "When a thread encounters a task directive, it packages the associated code and data into a task, which is then placed in a task queue.\n",
    "\n",
    "Created tasks are executed by the threads in the current team, but not necessarily by the thread that created them.\n",
    "The OpenMP runtime system schedules tasks to threads dynamically based on availability, enabling better load balancing for irregular workloads."
   ]
  },
  {
   "cell_type": "code",
   "execution_count": null,
   "metadata": {},
   "outputs": [],
   "source": [
    "%%cpp_omp -o code/tasking/task.cpp -t\n",
    "\n",
    "int a = 1, b = 2, c = 3;\n",
    "\n",
    "#pragma omp parallel  //# create a parallel region to spawn threads\n",
    "#pragma omp single    //# one thread creates tasks, multiple threads may execute them\n",
    "{           ☝\n",
    "    #pragma omp task\n",
    "    {           ☝\n",
    "        std::this_thread::sleep_for(std::chrono::milliseconds(10 * a));\n",
    "        std::cout << \"thread \" << omp_get_thread_num() << \": a = \" << a << std::endl;\n",
    "    }\n",
    "\n",
    "    #pragma omp task\n",
    "    {\n",
    "        std::this_thread::sleep_for(std::chrono::milliseconds(10 * b));\n",
    "        std::cout << \"thread \" << omp_get_thread_num() << \": b = \" << b << std::endl;\n",
    "    }\n",
    "\n",
    "    #pragma omp task\n",
    "    {\n",
    "        std::this_thread::sleep_for(std::chrono::milliseconds(10 * c));\n",
    "        std::cout << \"thread \" << omp_get_thread_num() << \": c = \" << c << std::endl;\n",
    "    }\n",
    "}"
   ]
  },
  {
   "cell_type": "markdown",
   "metadata": {},
   "source": [
    "Data sharing rules are as already discussed with one exception: the default for private variables in enclosing constructs is `firstprivate`."
   ]
  },
  {
   "cell_type": "code",
   "execution_count": null,
   "metadata": {
    "tags": []
   },
   "outputs": [],
   "source": [
    "%%cpp_omp -o code/tasking/firstprivate.cpp -t\n",
    "\n",
    "#pragma omp parallel\n",
    "#pragma omp single\n",
    "{\n",
    "    int privateVar = 5;\n",
    "    #pragma omp task // implicit firstprivate(privateVar)\n",
    "    {                   ☝\n",
    "        std::this_thread::sleep_for(std::chrono::milliseconds(10 * privateVar));\n",
    "        std::cout << \"thread \" << omp_get_thread_num() << \": privateVar = \" << privateVar << std::endl;\n",
    "        privateVar += 10;\n",
    "    }\n",
    "\n",
    "    std::cout << \"thread \" << omp_get_thread_num() << \": privateVar = \" << privateVar << std::endl;\n",
    "}"
   ]
  },
  {
   "cell_type": "markdown",
   "metadata": {
    "jp-MarkdownHeadingCollapsed": true,
    "tags": []
   },
   "source": [
    "## Task Synchronization"
   ]
  },
  {
   "cell_type": "markdown",
   "metadata": {},
   "source": [
    "The `taskwait` directive forces a thread to wait until all tasks *created by the current thread* are completed.\n",
    "Recursive tasks are not included."
   ]
  },
  {
   "cell_type": "code",
   "execution_count": null,
   "metadata": {},
   "outputs": [],
   "source": [
    "%%cpp_omp -o code/tasking/taskwait.cpp -t\n",
    "\n",
    "int a = 1, b = 2, c = 3;\n",
    "\n",
    "#pragma omp parallel\n",
    "#pragma omp single\n",
    "{\n",
    "    #pragma omp task\n",
    "    {\n",
    "        std::this_thread::sleep_for(std::chrono::milliseconds(10 * a));\n",
    "        std::cout << \"thread \" << omp_get_thread_num() << \": a = \" << a << std::endl;\n",
    "    }\n",
    "\n",
    "    #pragma omp task\n",
    "    {\n",
    "        std::this_thread::sleep_for(std::chrono::milliseconds(10 * b));\n",
    "        std::cout << \"thread \" << omp_get_thread_num() << \": b = \" << b << std::endl;\n",
    "    }\n",
    "\n",
    "    #pragma omp task\n",
    "    {\n",
    "        std::this_thread::sleep_for(std::chrono::milliseconds(10 * c));\n",
    "        std::cout << \"thread \" << omp_get_thread_num() << \": c = \" << c << std::endl;\n",
    "\n",
    "        #pragma omp task\n",
    "        {\n",
    "            std::this_thread::sleep_for(std::chrono::milliseconds(10 * c));\n",
    "            std::cout << \"thread \" << omp_get_thread_num() << \": recursive task c = \" << c << std::endl;\n",
    "        }\n",
    "    }\n",
    "\n",
    "    //# this taskwait will not include the recursive task above\n",
    "    #pragma omp taskwait\n",
    "                ☝\n",
    "\n",
    "    #pragma omp task\n",
    "    std::cout << \"thread \" << omp_get_thread_num() << \": all tasks finished\" << std::endl;\n",
    "}"
   ]
  },
  {
   "cell_type": "markdown",
   "metadata": {
    "jp-MarkdownHeadingCollapsed": true,
    "tags": []
   },
   "source": [
    "## Taskgroups"
   ]
  },
  {
   "cell_type": "markdown",
   "metadata": {},
   "source": [
    "Taskgroups are used to group tasks together so that they can be waited on as a group rather than individually.\n",
    "The `taskgroup` directive provides a way to manage tasks in a structured manner and includes an implicit synchronization at the end.\n",
    "In contrast to `taskwait`, recursive tasks are included."
   ]
  },
  {
   "cell_type": "code",
   "execution_count": null,
   "metadata": {},
   "outputs": [],
   "source": [
    "%%cpp_omp -o code/tasking/taskgroup.cpp -t\n",
    "\n",
    "int a = 1, b = 2, c = 3;\n",
    "\n",
    "#pragma omp parallel\n",
    "#pragma omp single\n",
    "{\n",
    "    #pragma omp task\n",
    "    {\n",
    "        std::this_thread::sleep_for(std::chrono::milliseconds(100));\n",
    "        std::cout << \"thread \" << omp_get_thread_num() << \": before taskgroup\" << std::endl;\n",
    "    }\n",
    "\n",
    "    #pragma omp taskgroup\n",
    "    {           ☝\n",
    "        #pragma omp task\n",
    "        {\n",
    "            std::this_thread::sleep_for(std::chrono::milliseconds(10 * a));\n",
    "            std::cout << \"thread \" << omp_get_thread_num() << \": a = \" << a << std::endl;\n",
    "        }\n",
    "\n",
    "        #pragma omp task\n",
    "        {\n",
    "            std::this_thread::sleep_for(std::chrono::milliseconds(10 * b));\n",
    "            std::cout << \"thread \" << omp_get_thread_num() << \": b = \" << b << std::endl;\n",
    "        }\n",
    "\n",
    "        #pragma omp task\n",
    "        {\n",
    "            std::this_thread::sleep_for(std::chrono::milliseconds(10 * c));\n",
    "            std::cout << \"thread \" << omp_get_thread_num() << \": c = \" << c << std::endl;\n",
    "\n",
    "            #pragma omp task\n",
    "            {\n",
    "                std::this_thread::sleep_for(std::chrono::milliseconds(10 * c));\n",
    "                std::cout << \"thread \" << omp_get_thread_num() << \": recursive task c = \" << c << std::endl;\n",
    "            }\n",
    "        }\n",
    "    } //# implicit synchronization - wait for all tasks from this taskgroup to finish\n",
    "      //# this will also include the recursive task\n",
    "\n",
    "    #pragma omp task\n",
    "    {\n",
    "        std::cout << \"thread \" << omp_get_thread_num() << \": after taskgroup\" << std::endl;\n",
    "    }\n",
    "}"
   ]
  },
  {
   "cell_type": "markdown",
   "metadata": {
    "jp-MarkdownHeadingCollapsed": true,
    "tags": []
   },
   "source": [
    "## Task Dependencies"
   ]
  },
  {
   "cell_type": "markdown",
   "metadata": {},
   "source": [
    "Tasks can have dependencies on other tasks using the `depend` clause.\n",
    "This ensures that a task will only execute after the tasks it depends on have completed.\n",
    "\n",
    "If no previous matching dependency to a listed variable exists, it is assumed as fulfilled $\\rightarrow$ the order of creating tasks matters."
   ]
  },
  {
   "cell_type": "markdown",
   "metadata": {},
   "source": [
    "<div class=\"alert alert-block alert-info\"> <b>Note:</b> Tasks don't have to use the variables they depend on. </div>"
   ]
  },
  {
   "cell_type": "code",
   "execution_count": null,
   "metadata": {},
   "outputs": [],
   "source": [
    "%%cpp_omp -o code/tasking/depend.cpp -t\n",
    "\n",
    "int a = 1, b = 2, c = 3;\n",
    "\n",
    "#pragma omp parallel\n",
    "#pragma omp single\n",
    "{\n",
    "    #pragma omp task depend(out : b)\n",
    "    {                            ☝\n",
    "        std::this_thread::sleep_for(std::chrono::milliseconds(10 * a));\n",
    "        std::cout << \"thread \" << omp_get_thread_num() << \": a = \" << a << std::endl;\n",
    "        b = a + 10;\n",
    "    }\n",
    "\n",
    "    #pragma omp task depend(in : b) depend(out : c)\n",
    "    {                           ☝              ☝\n",
    "        std::this_thread::sleep_for(std::chrono::milliseconds(10 * b));\n",
    "        std::cout << \"thread \" << omp_get_thread_num() << \": b = \" << b << std::endl;\n",
    "        c = b + 10;\n",
    "    }\n",
    "\n",
    "    #pragma omp task depend(in : c)\n",
    "    {                           ☝\n",
    "        std::this_thread::sleep_for(std::chrono::milliseconds(10 * c));\n",
    "        std::cout << \"thread \" << omp_get_thread_num() << \": c = \" << c << std::endl;\n",
    "    }\n",
    "}"
   ]
  },
  {
   "cell_type": "markdown",
   "metadata": {
    "jp-MarkdownHeadingCollapsed": true,
    "tags": []
   },
   "source": [
    "## Yielding Tasks & Untied Tasks"
   ]
  },
  {
   "cell_type": "markdown",
   "metadata": {},
   "source": [
    "The `taskyield` directive introduces an explicit task scheduling point (TSP).\n",
    "It allows a thread to yield its current task, giving other tasks the opportunity to execute.\n",
    "This can be useful when tasks are long-running, ensuring that no single task monopolizes CPU time.\n",
    "\\\n",
    "The `task` construct, as well as barriers, carry an implicit TSP.\n",
    "\n",
    "By default, tasks in OpenMP are *tied*, that is once a thread begins executing a task, the same thread must complete it.\n",
    "By specifying task to be `untied`, they are able to suspend and be resumed by a different thread."
   ]
  },
  {
   "cell_type": "code",
   "execution_count": null,
   "metadata": {},
   "outputs": [],
   "source": [
    "%%cpp_omp -o code/tasking/taskyield.cpp -t\n",
    "\n",
    "#pragma omp parallel num_threads(4)\n",
    "#pragma omp single\n",
    "{\n",
    "    for (int t = 0; t < 10; ++t)\n",
    "    {\n",
    "        #pragma omp task untied\n",
    "        {               ☝\n",
    "            auto start = omp_get_wtime();\n",
    "\n",
    "            #pragma omp critical\n",
    "                std::cout << \"thread \" << omp_get_thread_num() << \" started work on task \" << t << std::endl;\n",
    "\n",
    "            for (int i = 0; i < 10; ++i) {\n",
    "                #pragma omp critical\n",
    "                    std::cout << \"thread \" << omp_get_thread_num() << \" works on task \" << t << std::endl;\n",
    "                std::this_thread::sleep_for(std::chrono::milliseconds(100));\n",
    "                #pragma omp taskyield\n",
    "                            ☝\n",
    "            }\n",
    "\n",
    "            auto end = omp_get_wtime();\n",
    "\n",
    "            #pragma omp critical\n",
    "                std::cout << \"thread \" << omp_get_thread_num() << \" finished work on task \" << t << \" after \" << 1e3 * (end - start) << \" ms\" << std::endl;\n",
    "        }\n",
    "    }\n",
    "}"
   ]
  },
  {
   "cell_type": "markdown",
   "metadata": {
    "jp-MarkdownHeadingCollapsed": true,
    "tags": []
   },
   "source": [
    "## Conditional Tasks"
   ]
  },
  {
   "cell_type": "markdown",
   "metadata": {},
   "source": [
    "Adding an `if` clause controls whether a task is *deferred* (true), i.e. the task is possibly executed later, or *undeferred* (false), i.e. the task is executed immediately."
   ]
  },
  {
   "cell_type": "code",
   "execution_count": null,
   "metadata": {
    "tags": []
   },
   "outputs": [],
   "source": [
    "%%cpp_omp -o code/tasking/if.cpp -t\n",
    "\n",
    "int a = 1, b = 2, c = 3;\n",
    "bool deferred = false;\n",
    "\n",
    "#pragma omp parallel\n",
    "#pragma omp single\n",
    "{\n",
    "    #pragma omp task if(deferred)\n",
    "    {                ☝\n",
    "        std::this_thread::sleep_for(std::chrono::milliseconds(10 * a));\n",
    "        std::cout << \"thread \" << omp_get_thread_num() << \": a = \" << a << std::endl;\n",
    "    }\n",
    "\n",
    "    #pragma omp task if(deferred)\n",
    "    {\n",
    "        std::this_thread::sleep_for(std::chrono::milliseconds(10 * b));\n",
    "        std::cout << \"thread \" << omp_get_thread_num() << \": b = \" << b << std::endl;\n",
    "    }\n",
    "\n",
    "    #pragma omp task if(deferred)\n",
    "    {\n",
    "        std::this_thread::sleep_for(std::chrono::milliseconds(10 * c));\n",
    "        std::cout << \"thread \" << omp_get_thread_num() << \": c = \" << c << std::endl;\n",
    "    }\n",
    "}"
   ]
  },
  {
   "cell_type": "markdown",
   "metadata": {},
   "source": [
    "A similar mechanic is provided by the `final` clause.\n",
    "When evaluated to true, the task and all children become final and included tasks, i.e. get executed directly by the same thread."
   ]
  },
  {
   "cell_type": "markdown",
   "metadata": {
    "jp-MarkdownHeadingCollapsed": true,
    "tags": []
   },
   "source": [
    "## Taskloop\n"
   ]
  },
  {
   "cell_type": "markdown",
   "metadata": {},
   "source": [
    "The `taskloop` construct creates a dedicated task for each iteration of an associated loop ([OpenMP 5.1 - 2.12.2](https://www.openmp.org/spec-html/5.1/openmpsu55.html)).\n",
    "\\\n",
    "In contrast to worksharing constructs, task loops can be nested arbitrarily.\n",
    "They are frequently used for automatic load balancing."
   ]
  },
  {
   "cell_type": "code",
   "execution_count": null,
   "metadata": {
    "tags": []
   },
   "outputs": [],
   "source": [
    "%%cpp_omp -o code/tasking/taskloop.cpp -t\n",
    "\n",
    "#pragma omp parallel num_threads(2)\n",
    "#pragma omp single\n",
    "{\n",
    "    #pragma omp taskloop\n",
    "                ☝\n",
    "    for (int i = 0; i < 5; ++i) {\n",
    "        std::this_thread::sleep_for(std::chrono::milliseconds(10 * i));\n",
    "        std::cout << \"thread \" << omp_get_thread_num() << \": i = \" << i << std::endl;\n",
    "    }\n",
    "}\n"
   ]
  },
  {
   "cell_type": "markdown",
   "metadata": {
    "jp-MarkdownHeadingCollapsed": true,
    "tags": []
   },
   "source": [
    "## Task Reductions\n"
   ]
  },
  {
   "cell_type": "markdown",
   "metadata": {},
   "source": [
    "Reductions over multiple tasks are supported via task reductions since OpenMP 5.0.\n",
    "They require adding a `task_reduction` clause to the enclosing construct and `in_reduction` clauses to all participating tasks."
   ]
  },
  {
   "cell_type": "code",
   "execution_count": null,
   "metadata": {
    "tags": []
   },
   "outputs": [],
   "source": [
    "%%cpp_omp -o code/tasking/reduction.cpp -t\n",
    "\n",
    "int a = 1, b = 5, c = 10;\n",
    "int sum = 0;\n",
    "\n",
    "#pragma omp parallel\n",
    "#pragma omp single\n",
    "{\n",
    "    #pragma omp taskgroup task_reduction(+ : sum)\n",
    "    {                     ☝\n",
    "        #pragma omp task in_reduction(+ : sum)\n",
    "            sum += a;    ☝\n",
    "\n",
    "        #pragma omp task in_reduction(+ : sum)\n",
    "            sum += b;\n",
    "\n",
    "        #pragma omp task in_reduction(+ : sum)\n",
    "        {\n",
    "            sum += c;\n",
    "            #pragma omp task in_reduction(+ : sum)\n",
    "                sum += c;    ☝\n",
    "        }\n",
    "    } //# end of taskgroup - sum available\n",
    "\n",
    "    #pragma omp task\n",
    "        std::cout << \"thread \" << omp_get_thread_num() << \": sum = \" << sum << std::endl;\n",
    "}"
   ]
  },
  {
   "cell_type": "markdown",
   "metadata": {
    "jp-MarkdownHeadingCollapsed": true,
    "tags": []
   },
   "source": [
    "## Priority"
   ]
  },
  {
   "cell_type": "markdown",
   "metadata": {},
   "source": [
    "Tasks can optionally be given a priority with the `priority` clause.\n",
    "This is a hint for the run-time system -- applications must not make any assumptions about execution order based on priority.\n",
    "\\\n",
    "The behavior must be enabled by setting the environment variable `OMP_MAX_TASK_PRIORITY` ([OpenMP 5.1 - 6.16](https://www.openmp.org/spec-html/5.1/openmpse73.html))."
   ]
  },
  {
   "cell_type": "markdown",
   "metadata": {
    "jp-MarkdownHeadingCollapsed": true,
    "tags": []
   },
   "source": [
    "## Exercise: Tasked with Cooking"
   ]
  },
  {
   "cell_type": "markdown",
   "metadata": {},
   "source": [
    "<div class=\"alert alert-block alert-success\"> <b>Exercise:</b> Apply tasking to a mock simulation. </div>"
   ]
  },
  {
   "cell_type": "markdown",
   "metadata": {},
   "source": [
    "The code example below simulates the process of preparing a classic meal -- burger and fries.\n",
    "While this might not seem particularly relevant for scientific applications, it still represents a multi-step process with non-trivial dependencies.\n",
    "In practice, the single steps would most likely be somewhat more technical, such as computing Eigenvalues of sub-matrices or computing an error norm."
   ]
  },
  {
   "cell_type": "markdown",
   "metadata": {},
   "source": [
    "\n",
    "Your task is to taskify the example at hand following these restrictions:\n",
    "* Everything involving a knife (raw fries, tomatoes, salad) needs to be serialized since there is only one knife.\n",
    "* Everything involving an oven (fries, bun) can be done in parallel -- it is a big oven.\n",
    "* The raw fries can only be put into the oven once they are completely cut.\n",
    "* Frying can be done in parallel to everything else (excluding assembly).\n",
    "* The final assembly can only be started when all components are ready."
   ]
  },
  {
   "cell_type": "code",
   "execution_count": null,
   "metadata": {},
   "outputs": [],
   "source": [
    "%%cpp_omp -o code/tasking/cooking.cpp\n",
    "\n",
    "auto start = omp_get_wtime();\n",
    "\n",
    "std::this_thread::sleep_for(std::chrono::milliseconds(300));\n",
    "std::cout << 1e3 * (omp_get_wtime() - start) << \": Cutting raw fries done\" << std::endl;\n",
    "\n",
    "std::this_thread::sleep_for(std::chrono::milliseconds(200));\n",
    "std::cout << 1e3 * (omp_get_wtime() - start) << \": Cutting tomatoes done\" << std::endl;\n",
    "\n",
    "std::this_thread::sleep_for(std::chrono::milliseconds(200));\n",
    "std::cout << 1e3 * (omp_get_wtime() - start) << \": Preparing salad done\" << std::endl;\n",
    "\n",
    "std::this_thread::sleep_for(std::chrono::milliseconds(500));\n",
    "std::cout << 1e3 * (omp_get_wtime() - start) << \": Baking fries done\" << std::endl;\n",
    "\n",
    "std::this_thread::sleep_for(std::chrono::milliseconds(300));\n",
    "std::cout << 1e3 * (omp_get_wtime() - start) << \": Baking bun done\" << std::endl;\n",
    "\n",
    "std::this_thread::sleep_for(std::chrono::milliseconds(300));\n",
    "std::cout << 1e3 * (omp_get_wtime() - start) << \": Frying patty done\" << std::endl;\n",
    "\n",
    "std::this_thread::sleep_for(std::chrono::milliseconds(200));\n",
    "std::cout << 1e3 * (omp_get_wtime() - start) << \": Assembly done\" << std::endl;\n",
    "\n",
    "std::cout << \"Meal completed after \" << 1e3 * (omp_get_wtime() - start) << std::endl;"
   ]
  },
  {
   "cell_type": "markdown",
   "metadata": {
    "jp-MarkdownHeadingCollapsed": true,
    "tags": []
   },
   "source": [
    "### Solution"
   ]
  },
  {
   "cell_type": "code",
   "execution_count": null,
   "metadata": {},
   "outputs": [],
   "source": [
    "%%cpp_omp -o code/tasking/cooking-solution.cpp\n",
    "\n",
    "auto start = omp_get_wtime();\n",
    "\n",
    "int rawFries, fries, tomatoes, salad, patty, bun;\n",
    "\n",
    "#pragma omp parallel\n",
    "#pragma omp single\n",
    "{\n",
    "    #pragma omp task depend(out : rawFries)\n",
    "    #pragma omp critical (knife)\n",
    "    {\n",
    "        std::this_thread::sleep_for(std::chrono::milliseconds(300));\n",
    "        std::cout << 1e3 * (omp_get_wtime() - start) << \": Cutting raw fries done\" << std::endl;\n",
    "    }\n",
    "\n",
    "    #pragma omp task depend(out : tomatoes)\n",
    "    #pragma omp critical (knife)\n",
    "    {\n",
    "        std::this_thread::sleep_for(std::chrono::milliseconds(200));\n",
    "        std::cout << 1e3 * (omp_get_wtime() - start) << \": Cutting tomatoes done\" << std::endl;\n",
    "    }\n",
    "\n",
    "    #pragma omp task depend(out : salad)\n",
    "    #pragma omp critical (knife)\n",
    "    {\n",
    "        std::this_thread::sleep_for(std::chrono::milliseconds(200));\n",
    "        std::cout << 1e3 * (omp_get_wtime() - start) << \": Preparing salad done\" << std::endl;\n",
    "    }\n",
    "\n",
    "    #pragma omp task depend(in : rawFries) depend(out : fries)\n",
    "    {\n",
    "        std::this_thread::sleep_for(std::chrono::milliseconds(500));\n",
    "        std::cout << 1e3 * (omp_get_wtime() - start) << \": Baking fries done\" << std::endl;\n",
    "    }\n",
    "\n",
    "    #pragma omp task depend(out : bun)\n",
    "    {\n",
    "        std::this_thread::sleep_for(std::chrono::milliseconds(300));\n",
    "        std::cout << 1e3 * (omp_get_wtime() - start) << \": Baking bun done\" << std::endl;\n",
    "    }\n",
    "\n",
    "    #pragma omp task depend(out : patty)\n",
    "    {\n",
    "        std::this_thread::sleep_for(std::chrono::milliseconds(300));\n",
    "        std::cout << 1e3 * (omp_get_wtime() - start) << \": Frying patty done\" << std::endl;\n",
    "    }\n",
    "\n",
    "    #pragma omp task depend(in : fries, bun, patty, tomatoes, salad)\n",
    "    {\n",
    "        std::this_thread::sleep_for(std::chrono::milliseconds(200));\n",
    "        std::cout << 1e3 * (omp_get_wtime() - start) << \": Assembly done\" << std::endl;\n",
    "    }\n",
    "}\n",
    "\n",
    "std::cout << \"Meal completed after \" << 1e3 * (omp_get_wtime() - start) << std::endl;"
   ]
  }
 ],
 "metadata": {
  "kernelspec": {
   "display_name": "Python 3 (ipykernel)",
   "language": "python",
   "name": "python3"
  },
  "language_info": {
   "codemirror_mode": {
    "name": "ipython",
    "version": 3
   },
   "file_extension": ".py",
   "mimetype": "text/x-python",
   "name": "python",
   "nbconvert_exporter": "python",
   "pygments_lexer": "ipython3",
   "version": "3.11.3"
  }
 },
 "nbformat": 4,
 "nbformat_minor": 4
}
