{
 "cells": [
  {
   "cell_type": "markdown",
   "metadata": {},
   "source": [
    "# SIMD"
   ]
  },
  {
   "cell_type": "markdown",
   "metadata": {},
   "source": [
    "## Overview"
   ]
  },
  {
   "cell_type": "markdown",
   "metadata": {},
   "source": [
    "Single instruction multiple data (SIMD) performs one instruction on multiple elements.\n",
    "Special instructions are provided for gather and scatter operations, masked operations, ..."
   ]
  },
  {
   "cell_type": "markdown",
   "metadata": {},
   "source": [
    "<img src=\"img/simd/vectorized.svg\" alt=\"scalar-vs-vectorized\" width=\"50%\" background-color=\"#ffffff\"/>"
   ]
  },
  {
   "cell_type": "markdown",
   "metadata": {},
   "source": [
    "OpenMP supports automatic vectorization over loop iterations with the `simd` construct.\n",
    "Loop is partitioned into chunks of the size of the vector length.\n",
    "\n",
    "Requirements: as with worksharing constructs, no data dependencies or pointer aliasing are allowed.\n",
    "`safelen` can be used to partly lift this restriction."
   ]
  },
  {
   "cell_type": "code",
   "execution_count": 2,
   "metadata": {
    "tags": []
   },
   "outputs": [],
   "source": [
    "%load_ext ice.magic"
   ]
  },
  {
   "cell_type": "code",
   "execution_count": 9,
   "metadata": {
    "tags": []
   },
   "outputs": [
    {
     "name": "stdout",
     "output_type": "stream",
     "text": [
      "1023\n",
      "Total time: 0.053898 ms\n"
     ]
    }
   ],
   "source": [
    "%%cpp_omp -o code/simd/vec-init.cpp -t\n",
    "\n",
    "constexpr auto N = 1024;\n",
    "int vec[N];\n",
    "\n",
    "#pragma omp simd\n",
    "for (auto i = 0; i < N; ++i)\n",
    "    vec[i] = i;\n",
    "\n",
    "std::cout << vec[N - 1] << std::endl;"
   ]
  },
  {
   "cell_type": "markdown",
   "metadata": {
    "tags": []
   },
   "source": [
    "Compilation of simd constructs exclusively (i.e. ignoring other OpenMP constructs) can be done by specifying `-fopenmp-simd` for gcc and clang compilers, or `qopenmp-simd` for Intel compilers."
   ]
  },
  {
   "cell_type": "code",
   "execution_count": 15,
   "metadata": {
    "tags": []
   },
   "outputs": [
    {
     "name": "stdout",
     "output_type": "stream",
     "text": [
      "Writing to       my-code.cpp\n",
      "Compiling with   g++ -O3 -march=native -std=c++17 -Wall -fopenmp-simd -o /tmp/my-app my-code.cpp\n",
      "Executing        /tmp/my-app\n",
      "\n",
      "1023\n"
     ]
    }
   ],
   "source": [
    "%%cpp -o code/simd/serial-vec-init.cpp -v -f fopenmp-simd\n",
    "\n",
    "constexpr auto N = 1024;\n",
    "int vec[N];\n",
    "\n",
    "#pragma omp simd\n",
    "for (auto i = 0; i < N; ++i)\n",
    "    vec[i] = i;\n",
    "\n",
    "std::cout << vec[N - 1] << std::endl;"
   ]
  },
  {
   "cell_type": "markdown",
   "metadata": {
    "tags": []
   },
   "source": [
    "Other clauses\n",
    "* `simdlen`\n",
    "* `safelen`\n",
    "* `aligned(var[:alignment])`\n",
    "* `linear(list[:step])`; list variables are privatized\n",
    "* collapse\n",
    "* reduction"
   ]
  },
  {
   "cell_type": "markdown",
   "metadata": {
    "tags": []
   },
   "source": [
    "### Combination with Parallel"
   ]
  },
  {
   "cell_type": "markdown",
   "metadata": {
    "tags": []
   },
   "source": [
    "optional: simd modifier in schedule causes chunk size to be a multiple of simd width"
   ]
  },
  {
   "cell_type": "code",
   "execution_count": 18,
   "metadata": {
    "tags": []
   },
   "outputs": [
    {
     "name": "stdout",
     "output_type": "stream",
     "text": [
      "1023\n",
      "Total time: 10.2683 ms\n"
     ]
    }
   ],
   "source": [
    "%%cpp_omp -o code/simd/parallel.cpp -t\n",
    "\n",
    "constexpr auto N = 1024;\n",
    "int vec[N];\n",
    "\n",
    "#pragma omp parallel for simd schedule(simd:static)\n",
    "for (auto i = 0; i < N; ++i)\n",
    "    vec[i] = i;\n",
    "\n",
    "std::cout << vec[N - 1] << std::endl;"
   ]
  },
  {
   "cell_type": "markdown",
   "metadata": {},
   "source": [
    "### Vectorizing Functions\n",
    "\n",
    "declare simd simdlen(n) [clauses]\n",
    "\n",
    "```cpp\n",
    "#pragma omp declare simd simdlen(2)\n",
    "#pragma omp declare simd simdlen(4)\n",
    "#pragma omp declare simd simdlen(8)\n",
    "double sumit(double a, double b) \n",
    "{\n",
    "    return a + b;\n",
    "}\n",
    "...\n",
    "#pragma omp simd\n",
    "for (int i = 0; i < n; ++i)\n",
    "    a[i] = sumit(b[i], c[i]);\n",
    "```"
   ]
  },
  {
   "cell_type": "markdown",
   "metadata": {},
   "source": [
    "Additional clauses can be\n",
    "* a list of `uniform` parameters, i.e. parameters that do not change\n",
    "* a list of `linear` parameters, i.e. parameters with a linear relationship on the iterator of the calling loop\n",
    "* `inbranch` or `notinbranch` specifying whether the function is called from withing a branch (or not)\n",
    "* a list of `aligned` pointers with respective alignments"
   ]
  },
  {
   "cell_type": "markdown",
   "metadata": {},
   "source": [
    "Multiple declarations with different clauses are allowed."
   ]
  }
 ],
 "metadata": {
  "kernelspec": {
   "display_name": "Python 3.11 (ipykernel)",
   "language": "python",
   "name": "python3"
  },
  "language_info": {
   "codemirror_mode": {
    "name": "ipython",
    "version": 3
   },
   "file_extension": ".py",
   "mimetype": "text/x-python",
   "name": "python",
   "nbconvert_exporter": "python",
   "pygments_lexer": "ipython3",
   "version": "3.11.0"
  }
 },
 "nbformat": 4,
 "nbformat_minor": 4
}
