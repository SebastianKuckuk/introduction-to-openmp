{
 "cells": [
  {
   "cell_type": "markdown",
   "metadata": {},
   "source": [
    "# SIMD"
   ]
  },
  {
   "cell_type": "markdown",
   "metadata": {
    "jp-MarkdownHeadingCollapsed": true,
    "tags": []
   },
   "source": [
    "## Overview"
   ]
  },
  {
   "cell_type": "markdown",
   "metadata": {},
   "source": [
    "Single instruction multiple data (SIMD) performs one instruction concurrently on multiple elements.\n",
    "Special instructions are provided for gather, scatter, masked and other operations."
   ]
  },
  {
   "cell_type": "markdown",
   "metadata": {},
   "source": [
    "<img src=\"img/simd/vectorized.svg\" alt=\"scalar-vs-vectorized\" width=\"50%\" background-color=\"#ffffff\"/>"
   ]
  },
  {
   "cell_type": "markdown",
   "metadata": {},
   "source": [
    "OpenMP supports automatic vectorization over loop iterations with the `simd` construct ([OpenMP 5.1 - 2.11.5](https://www.openmp.org/spec-html/5.1/openmpsu49.html)).\n",
    "\\\n",
    "Loops are partitioned into chunks of the size of the vector length and all elements of a chunk are then processed in parallel.\n",
    "\n",
    "Requirements: as with worksharing constructs, no data dependencies or pointer aliasing are allowed.\n",
    "The `safelen` clause can be used to partly lift this restriction."
   ]
  },
  {
   "cell_type": "code",
   "execution_count": null,
   "metadata": {
    "tags": []
   },
   "outputs": [],
   "source": [
    "%load_ext ice.magic"
   ]
  },
  {
   "cell_type": "markdown",
   "metadata": {
    "jp-MarkdownHeadingCollapsed": true,
    "tags": []
   },
   "source": [
    "## SIMD Construct"
   ]
  },
  {
   "cell_type": "code",
   "execution_count": null,
   "metadata": {
    "tags": []
   },
   "outputs": [],
   "source": [
    "%%cpp_omp -o code/simd/vec-init.cpp -t\n",
    "\n",
    "constexpr auto N = 1024;\n",
    "int vec[N];\n",
    "\n",
    "#pragma omp simd\n",
    "            ☝\n",
    "for (auto i = 0; i < N; ++i)\n",
    "    vec[i] = i;\n",
    "\n",
    "std::cout << vec[N - 1] << std::endl;"
   ]
  },
  {
   "cell_type": "markdown",
   "metadata": {
    "tags": []
   },
   "source": [
    "Compilation of simd constructs exclusively (i.e. ignoring other OpenMP constructs) can be done by specifying `-fopenmp-simd` for gcc and clang compilers, or `qopenmp-simd` for Intel compilers."
   ]
  },
  {
   "cell_type": "code",
   "execution_count": null,
   "metadata": {
    "tags": []
   },
   "outputs": [],
   "source": [
    "%%cpp -o code/simd/serial-vec-init.cpp -v -f fopenmp-simd\n",
    "  ☝                                        ☝\n",
    "\n",
    "constexpr auto N = 1024;\n",
    "int vec[N];\n",
    "\n",
    "#pragma omp simd\n",
    "for (auto i = 0; i < N; ++i)\n",
    "    vec[i] = i;\n",
    "\n",
    "std::cout << vec[N - 1] << std::endl;"
   ]
  },
  {
   "cell_type": "markdown",
   "metadata": {
    "tags": []
   },
   "source": [
    "Allowed clauses for simd included\n",
    "\n",
    "| Clause      | Specifies                                                                                                |\n",
    "|-------------|----------------------------------------------------------------------------------------------------------|\n",
    "| `simdlen`   | the number of elements in one SIMD vector                                                                |\n",
    "| `aligned`   | a list of aligned pointers with optional alignment                                                       |\n",
    "| `linear`    | a list of variables that have a linear dependency with the loop iterator; they are implicitly privatized |\n",
    "| `collapse`  | a collapse operation as before                                                                           |\n",
    "| `reduction` | a reduction as before                                                                                    |"
   ]
  },
  {
   "cell_type": "code",
   "execution_count": null,
   "metadata": {},
   "outputs": [],
   "source": [
    "%%cpp_omp -o code/simd/simd-clauses.cpp -v -i stdlib.h\n",
    "\n",
    "constexpr auto N = 1024;\n",
    "int *vec;\n",
    "vec = (int*)aligned_alloc(64, 1024 * sizeof(int));\n",
    "      ☝\n",
    "\n",
    "#pragma omp simd simdlen(8) aligned(vec:64)\n",
    "                 ☝        ☝\n",
    "for (auto i = 0; i < N; ++i)\n",
    "    vec[i] = i;\n",
    "\n",
    "std::cout << vec[N - 1] << std::endl;\n",
    "\n",
    "free(vec);"
   ]
  },
  {
   "cell_type": "markdown",
   "metadata": {
    "jp-MarkdownHeadingCollapsed": true,
    "tags": []
   },
   "source": [
    "## Combination with Parallel"
   ]
  },
  {
   "cell_type": "markdown",
   "metadata": {
    "tags": []
   },
   "source": [
    "The simd and parallel for constructs can be fused into `parallel for simd`.\n",
    "In this case, the optional `simd` modifier is supported in the schedule clause.\n",
    "When set, then chunk sizes are set to be a multiple of the SIMD width."
   ]
  },
  {
   "cell_type": "code",
   "execution_count": null,
   "metadata": {
    "tags": []
   },
   "outputs": [],
   "source": [
    "%%cpp_omp -o code/simd/parallel.cpp -t\n",
    "\n",
    "constexpr auto N = 1024;\n",
    "int vec[N];\n",
    "\n",
    "#pragma omp parallel for simd schedule(simd:static)\n",
    "for (auto i = 0; i < N; ++i)\n",
    "    vec[i] = i;\n",
    "\n",
    "std::cout << vec[N - 1] << std::endl;"
   ]
  },
  {
   "cell_type": "markdown",
   "metadata": {
    "jp-MarkdownHeadingCollapsed": true,
    "tags": []
   },
   "source": [
    "## Vectorizing Functions"
   ]
  },
  {
   "cell_type": "markdown",
   "metadata": {},
   "source": [
    "Functions to be called from vectorized code can be converted into vectorized counterparts with the `declare simd` directive ([OpenMP 5.1 - 2.11.5.3](https://www.openmp.org/spec-html/5.1/openmpsu49.html))."
   ]
  },
  {
   "cell_type": "markdown",
   "metadata": {},
   "source": [
    "\n",
    "```cpp\n",
    "#pragma omp declare simd simdlen(2) linear(x, y) uniform(a, b, c) notinbranch\n",
    "#pragma omp declare simd simdlen(4) linear(x, y) uniform(a, b, c)\n",
    "#pragma omp declare simd simdlen(8) linear(x, y) uniform(a, b, c) notinbranch\n",
    "double eval_polynom(double x, double y, double a, double b, double c) {\n",
    "    return a * x * x + b * y + c;\n",
    "}\n",
    "\n",
    "/// ...\n",
    "\n",
    "#pragma omp simd\n",
    "for (int i = 0; i < n; ++i) {\n",
    "    outVec[i] = eval_polynom(xVec[i], yVec[i], 2, 4);\n",
    "}\n",
    "```"
   ]
  },
  {
   "cell_type": "markdown",
   "metadata": {},
   "source": [
    "Additional clauses include\n",
    "| Clause                      | Specifies                                                                                                |\n",
    "|-----------------------------|----------------------------------------------------------------------------------------------------------|\n",
    "| `simdlen`                   | the number of elements in one SIMD vector                                                                |\n",
    "| `aligned`                   | a list of aligned pointers with optional alignment                                                       |\n",
    "| `linear`                    | a list of variables that have a linear dependency with the loop iterator; they are implicitly privatized |\n",
    "| `uniform`                   | a list of variables that do not change                                                                   |\n",
    "| `inbranch` or `notinbranch` | whether the function is called from within a branch (or not)                                             |"
   ]
  },
  {
   "cell_type": "markdown",
   "metadata": {},
   "source": [
    "Multiple declarations with different clauses are allowed."
   ]
  }
 ],
 "metadata": {
  "kernelspec": {
   "display_name": "Python 3 (ipykernel)",
   "language": "python",
   "name": "python3"
  },
  "language_info": {
   "codemirror_mode": {
    "name": "ipython",
    "version": 3
   },
   "file_extension": ".py",
   "mimetype": "text/x-python",
   "name": "python",
   "nbconvert_exporter": "python",
   "pygments_lexer": "ipython3",
   "version": "3.11.3"
  }
 },
 "nbformat": 4,
 "nbformat_minor": 4
}
