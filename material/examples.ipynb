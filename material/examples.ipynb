{
 "cells": [
  {
   "cell_type": "markdown",
   "id": "4b7bca0b-d4fc-4e5f-a0ff-8dad060fa7f5",
   "metadata": {
    "tags": []
   },
   "source": [
    "# Examples"
   ]
  },
  {
   "cell_type": "markdown",
   "id": "3541bfdf-911d-41b6-8d2f-bf6fac9535e9",
   "metadata": {
    "tags": []
   },
   "source": [
    "## Stream Benchmark"
   ]
  },
  {
   "cell_type": "markdown",
   "id": "b9034639-b109-4ee9-8e8d-9713dbf05e14",
   "metadata": {
    "tags": []
   },
   "source": [
    "The stream benchmark application can be used to assess bandwidth.\n",
    "\\\n",
    "It copies data between two arrays in a ping-pong fashion, each time increasing each element by one.\n",
    "The latter allows for checking correctness of the implemented operation."
   ]
  },
  {
   "cell_type": "markdown",
   "id": "8d3e3d74-2842-490b-a4d5-a53c4b78a9f6",
   "metadata": {
    "tags": []
   },
   "source": [
    "The serial baseline code is available at [code/examples/stream.cpp](code/examples/stream.cpp).\n",
    "It can be compiled and executed using the following cells."
   ]
  },
  {
   "cell_type": "code",
   "execution_count": null,
   "id": "03cfbe13-25cb-4444-a32d-aaf178ce6b1d",
   "metadata": {
    "tags": []
   },
   "outputs": [],
   "source": [
    "!g++ -O3 -std=c++17 -Wall -o code/examples/stream code/examples/stream.cpp"
   ]
  },
  {
   "cell_type": "code",
   "execution_count": null,
   "id": "026be61b-5176-417e-ba36-8ac56581701f",
   "metadata": {
    "tags": []
   },
   "outputs": [],
   "source": [
    "!code/examples/stream"
   ]
  },
  {
   "cell_type": "markdown",
   "id": "9f9ee5e8-af0d-448c-a1b5-c6a49deb52b8",
   "metadata": {
    "tags": []
   },
   "source": [
    "Optionally, the default parameters can be overwritten with `./stream nx nit`"
   ]
  },
  {
   "cell_type": "code",
   "execution_count": null,
   "id": "3fd31009-eb22-4dd7-bc34-82a90dd42828",
   "metadata": {
    "tags": []
   },
   "outputs": [],
   "source": [
    "!code/examples/stream $((1024 * 1024)) 2"
   ]
  },
  {
   "cell_type": "markdown",
   "id": "0454e3fe-d067-48d1-8112-c5510bac38c4",
   "metadata": {
    "tags": []
   },
   "source": [
    "## Monte Carlo Pi Estimation"
   ]
  },
  {
   "cell_type": "markdown",
   "id": "128a3834-f274-4a9b-ae80-29a8b7d8b0e6",
   "metadata": {
    "tags": []
   },
   "source": [
    "This program approximates $\\pi$ using a Monte Carlo method.\n",
    "The main idea is to sample random positions in the unit square and then check whether they fall into a circle segment."
   ]
  },
  {
   "cell_type": "markdown",
   "id": "b10f10fd-c2cb-4a21-8416-c0b1b366907a",
   "metadata": {
    "tags": []
   },
   "source": [
    "<img src=\"https://upload.wikimedia.org/wikipedia/commons/d/d4/Pi_monte_carlo_all.gif\" alt=\"monte carlo visualization\" width=\"25%\"/>"
   ]
  },
  {
   "cell_type": "markdown",
   "id": "6de10c0b-17a0-45ae-b4e0-9481c26db1e6",
   "metadata": {
    "tags": []
   },
   "source": [
    "The ration of number of hits over the number of sampled points in total approximates the area covered by the circle segment.\n",
    "Since we know that the area of a circle with unit radius is $r^2 \\pi = \\pi$, we also know that the area of a quater segment is $\\pi / 4$.\n",
    "Putting it all together, we can approximate $\\pi$ as $4 \\frac{\\#hits}{\\#samples}$."
   ]
  },
  {
   "cell_type": "markdown",
   "id": "d6e2d783-c99b-48b9-9969-68f34ec9b73c",
   "metadata": {
    "tags": []
   },
   "source": [
    "The serial baseline code is available at [code/examples/mc-pi.cpp](code/examples/mc-pi.cpp).\n",
    "It can be compiled and executed using the following cells."
   ]
  },
  {
   "cell_type": "code",
   "execution_count": null,
   "id": "55304ac0-ce9d-4d4f-ae7a-c9a5d57d1043",
   "metadata": {
    "tags": []
   },
   "outputs": [],
   "source": [
    "!g++ -O3 -std=c++17 -Wall -o code/examples/mc-pi code/examples/mc-pi.cpp"
   ]
  },
  {
   "cell_type": "code",
   "execution_count": null,
   "id": "996e2546-3851-4f5a-a4f2-03191361a36b",
   "metadata": {
    "tags": []
   },
   "outputs": [],
   "source": [
    "!code/examples/mc-pi"
   ]
  },
  {
   "cell_type": "markdown",
   "id": "4530bb5a-c873-4113-b51a-e83dbb9d70e5",
   "metadata": {
    "tags": []
   },
   "source": [
    "Optionally, the default parameters can be overwritten with `./mc-pi nsamples`"
   ]
  },
  {
   "cell_type": "code",
   "execution_count": null,
   "id": "66ba43a3-531f-4e49-8061-b22e52333269",
   "metadata": {
    "tags": []
   },
   "outputs": [],
   "source": [
    "!code/examples/mc-pi $((32 * 1024 * 1024))"
   ]
  },
  {
   "cell_type": "markdown",
   "id": "fe87d5e3-e5b5-43a2-aabc-f14528d8bd0b",
   "metadata": {
    "tags": []
   },
   "source": [
    "## 2D Stencil"
   ]
  },
  {
   "cell_type": "markdown",
   "id": "4c0515d2-51bf-4263-8e9b-463444d87db7",
   "metadata": {
    "tags": []
   },
   "source": [
    "This application solves a 2D finite difference discretization of the Laplace equation using Jacobi iterations.\n",
    "It can, among many other things, be used to simulate heat distribution."
   ]
  },
  {
   "cell_type": "markdown",
   "id": "09d85390-e492-46a5-a8cb-82d8d2bbfc3d",
   "metadata": {
    "tags": []
   },
   "source": [
    "<img src=\"https://upload.wikimedia.org/wikipedia/commons/0/01/Heat.gif\" alt=\"heat equation\" width=\"50%\"/>"
   ]
  },
  {
   "cell_type": "markdown",
   "id": "35edee7d-3d25-45df-a0d8-3123b4fb0283",
   "metadata": {
    "tags": []
   },
   "source": [
    "The details are not important for this tutorial.\n",
    "In essence, an update for each point of a 2D grid is computed based on the values of neighboring points.\n",
    "In this particular examples, only the neighbors in cardinal directions are used which, when visualized, looks like a stencil."
   ]
  },
  {
   "cell_type": "markdown",
   "id": "db9a78af-9dc0-4327-96b0-d7adf5463ef8",
   "metadata": {
    "tags": []
   },
   "source": [
    "The serial baseline code is available at [code/examples/stencil-2d.cpp](code/examples/stencil-2d.cpp).\n",
    "It can be compiled and executed using the following cells."
   ]
  },
  {
   "cell_type": "code",
   "execution_count": null,
   "id": "87556492-31a1-44b7-b5dd-2532c075854b",
   "metadata": {
    "tags": []
   },
   "outputs": [],
   "source": [
    "!g++ -O3 -std=c++17 -Wall -o code/examples/stencil-2d code/examples/stencil-2d.cpp"
   ]
  },
  {
   "cell_type": "code",
   "execution_count": null,
   "id": "b70b36fc-502a-47c7-b106-8008da2829e8",
   "metadata": {
    "tags": []
   },
   "outputs": [],
   "source": [
    "!code/examples/stencil-2d"
   ]
  },
  {
   "cell_type": "markdown",
   "id": "a131d647-afd8-4ff4-bc3a-7bacc4c12cd6",
   "metadata": {
    "tags": []
   },
   "source": [
    "Optionally, the default parameters can be overwritten with `./stencil-2d nx ny nit`"
   ]
  },
  {
   "cell_type": "code",
   "execution_count": null,
   "id": "dd159b3a-fd2f-46b6-92ae-de4ac7f2d1bf",
   "metadata": {
    "tags": []
   },
   "outputs": [],
   "source": [
    "!code/examples/stencil-2d 1024 1024 64"
   ]
  },
  {
   "cell_type": "markdown",
   "id": "ae880205-62bf-439d-80c2-06389987c5b6",
   "metadata": {},
   "source": [
    "## Julia Set"
   ]
  },
  {
   "cell_type": "markdown",
   "id": "48984b04-c7b7-478b-845c-cde2f4435035",
   "metadata": {},
   "source": [
    "This application generates an image of the Julia set.\n",
    "The computation is done for each pixel by iterating a complex function, mapping the results to a color scheme, and storing the pixel data in a linearized array.\n",
    "After all pixels have been computed, the output image is saved as a PNG file using the lodepng library."
   ]
  },
  {
   "cell_type": "markdown",
   "id": "2d898ee0-8420-4e42-b6fe-96d43fa80b63",
   "metadata": {},
   "source": [
    "First, we need to download the loadpng header and source files to be used in our application."
   ]
  },
  {
   "cell_type": "code",
   "execution_count": null,
   "id": "a715d94c-31f4-4b3d-af7c-bae5c5d2bb18",
   "metadata": {
    "tags": []
   },
   "outputs": [],
   "source": [
    "!curl https://raw.githubusercontent.com/lvandeve/lodepng/master/lodepng.h -o code/examples/lodepng.h\n",
    "!curl https://raw.githubusercontent.com/lvandeve/lodepng/master/lodepng.cpp -o code/examples/lodepng.cpp"
   ]
  },
  {
   "cell_type": "markdown",
   "id": "1e7f969b-ba31-4d30-b2d6-668745be8db0",
   "metadata": {},
   "source": [
    "The application can be compiled and executed using the following cells."
   ]
  },
  {
   "cell_type": "code",
   "execution_count": null,
   "id": "71cad620-df0f-4518-8866-866d3c2e1c20",
   "metadata": {
    "tags": []
   },
   "outputs": [],
   "source": [
    "!g++ -O3 -std=c++17 -Wall -o code/examples/julia-set code/examples/julia-set.cpp code/examples/lodepng.cpp"
   ]
  },
  {
   "cell_type": "code",
   "execution_count": null,
   "id": "cd5982ec-85c7-424b-b870-f0aa4320171a",
   "metadata": {
    "tags": []
   },
   "outputs": [],
   "source": [
    "!code/examples/julia-set"
   ]
  },
  {
   "cell_type": "markdown",
   "id": "e40ef95a-5f6e-4372-817d-63d204ecf0e6",
   "metadata": {},
   "source": [
    "The output image can be displayed using this cell."
   ]
  },
  {
   "cell_type": "code",
   "execution_count": null,
   "id": "896b9402-8da2-4a3a-8a4b-df1f809c7ef1",
   "metadata": {
    "tags": []
   },
   "outputs": [],
   "source": [
    "from IPython.display import display, Image\n",
    "display(Image(filename='julia.png', width=512, height=512))"
   ]
  }
 ],
 "metadata": {
  "kernelspec": {
   "display_name": "Python 3.11 (ipykernel)",
   "language": "python",
   "name": "python3"
  },
  "language_info": {
   "codemirror_mode": {
    "name": "ipython",
    "version": 3
   },
   "file_extension": ".py",
   "mimetype": "text/x-python",
   "name": "python",
   "nbconvert_exporter": "python",
   "pygments_lexer": "ipython3",
   "version": "3.11.0"
  }
 },
 "nbformat": 4,
 "nbformat_minor": 5
}
