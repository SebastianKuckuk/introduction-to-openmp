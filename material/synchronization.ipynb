{
 "cells": [
  {
   "cell_type": "markdown",
   "metadata": {
    "tags": []
   },
   "source": [
    "# Synchronization"
   ]
  },
  {
   "cell_type": "markdown",
   "metadata": {
    "tags": []
   },
   "source": [
    "## Overview"
   ]
  },
  {
   "cell_type": "markdown",
   "metadata": {
    "tags": []
   },
   "source": [
    "OpenMP offer a range of synchronization options working at different levels of granularity."
   ]
  },
  {
   "cell_type": "code",
   "execution_count": null,
   "metadata": {
    "tags": []
   },
   "outputs": [],
   "source": [
    "%load_ext ice_magic"
   ]
  },
  {
   "cell_type": "markdown",
   "metadata": {
    "tags": []
   },
   "source": [
    "## Barrier"
   ]
  },
  {
   "cell_type": "markdown",
   "metadata": {
    "tags": []
   },
   "source": [
    "Introduces a single explicit barrier at which all threads have to wait ([OpenMP 5.1 - 2.19.2](https://www.openmp.org/spec-html/5.1/openmpsu100.html))"
   ]
  },
  {
   "cell_type": "code",
   "execution_count": null,
   "metadata": {
    "tags": []
   },
   "outputs": [],
   "source": [
    "%%cpp_omp -o code/sync/barrier.cpp\n",
    "\n",
    "// can be stand-alone\n",
    "#pragma omp barrier\n",
    "\n",
    "// or in an enclosing region\n",
    "#pragma omp parallel num_threads(4)\n",
    "{\n",
    "    std::cout << omp_get_thread_num() << std::endl;\n",
    "    #pragma omp barrier\n",
    "    std::cout << 10 * omp_get_thread_num() << std::endl;\n",
    "}"
   ]
  },
  {
   "cell_type": "markdown",
   "metadata": {},
   "source": [
    "## Single"
   ]
  },
  {
   "cell_type": "markdown",
   "metadata": {},
   "source": [
    "Introduces a code block only executed by a single thread ([OpenMP 5.1 - 2.10.2](https://www.openmp.org/spec-html/5.1/openmpsu43.html)).\n",
    "\\\n",
    "Which thread actually executes is compiler specific and may change between runs.\n",
    "\\\n",
    "The single construct implies an implicit barrier at the end unless the `nowait` clause is added."
   ]
  },
  {
   "cell_type": "code",
   "execution_count": null,
   "metadata": {
    "tags": []
   },
   "outputs": [],
   "source": [
    "%%cpp_omp -o code/sync/single.cpp\n",
    "\n",
    "#pragma omp parallel num_threads(4)\n",
    "{\n",
    "    #pragma omp single\n",
    "        std::cout << omp_get_thread_num() << std::endl << std::endl;\n",
    "    \n",
    "    std::cout << omp_get_thread_num() << std::endl;\n",
    "}"
   ]
  },
  {
   "cell_type": "markdown",
   "metadata": {},
   "source": [
    "Private variables may be propagated to other threads by adding the `copyprivate` clause."
   ]
  },
  {
   "cell_type": "code",
   "execution_count": null,
   "metadata": {
    "tags": []
   },
   "outputs": [],
   "source": [
    "%%cpp_omp -o code/sync/copyprivate.cpp\n",
    "\n",
    "#pragma omp parallel num_threads(4)\n",
    "{\n",
    "    int tid;\n",
    "    #pragma omp single copyprivate(tid)\n",
    "        tid = omp_get_thread_num();\n",
    "    \n",
    "    std::cout << tid << std::endl;\n",
    "}"
   ]
  },
  {
   "cell_type": "markdown",
   "metadata": {},
   "source": [
    "## Masked (replacing Master)"
   ]
  },
  {
   "cell_type": "markdown",
   "metadata": {},
   "source": [
    "`master` restricts execution of a code block to the thread with id 0, but is now deprecated.\n",
    "\\\n",
    "Its replacement is `masked` which specifies the same behavior, and additionally supports adding a `filter` clause specifying the executing thread ([OpenMP 5.1 - 2.8](https://www.openmp.org/spec-html/5.1/openmpse16.html))."
   ]
  },
  {
   "cell_type": "markdown",
   "metadata": {},
   "source": [
    "<div class=\"alert alert-block alert-info\"> <b>Note:</b> In contrast to single, there is <i>no</i> implicit barrier at the end of either, and copying out variables is <i>not</i> supported. </div>"
   ]
  },
  {
   "cell_type": "code",
   "execution_count": null,
   "metadata": {
    "tags": []
   },
   "outputs": [],
   "source": [
    "%%cpp_omp -o code/sync/master.cpp\n",
    "\n",
    "#pragma omp parallel num_threads(4)\n",
    "{\n",
    "    // this is deprecated\n",
    "    #pragma omp master\n",
    "        std::cout << omp_get_thread_num() << std::endl;\n",
    "\n",
    "    // this is the replacement ...\n",
    "    #pragma omp masked\n",
    "        std::cout << omp_get_thread_num() << std::endl;\n",
    "\n",
    "    // ... which allows using filter clauses\n",
    "    #pragma omp masked filter(2)\n",
    "    std::cout << omp_get_thread_num() << std::endl;\n",
    "}"
   ]
  },
  {
   "cell_type": "markdown",
   "metadata": {},
   "source": [
    "## Critical"
   ]
  },
  {
   "cell_type": "markdown",
   "metadata": {},
   "source": [
    "`critical` restricts _concurrent_ execution of a code block to one thread at a time."
   ]
  },
  {
   "cell_type": "code",
   "execution_count": null,
   "metadata": {
    "tags": []
   },
   "outputs": [],
   "source": [
    "%%cpp_omp -o code/sync/critical.cpp\n",
    "\n",
    "#pragma omp parallel num_threads(4)\n",
    "{\n",
    "    #pragma omp critical\n",
    "        std::cout << omp_get_thread_num() << std::endl;\n",
    "}"
   ]
  },
  {
   "cell_type": "markdown",
   "metadata": {},
   "source": [
    "By default, all critical regions are linked, i.e. concurrent execution of _different_ critical regions is not possible (application-wide)."
   ]
  },
  {
   "cell_type": "code",
   "execution_count": null,
   "metadata": {},
   "outputs": [],
   "source": [
    "%%cpp_omp -o code/sync/multi-critical.cpp\n",
    "\n",
    "#pragma omp parallel num_threads(4)\n",
    "{\n",
    "    #pragma omp critical\n",
    "        std::cout << \"A \" << omp_get_thread_num() << std::endl;\n",
    "\n",
    "    #pragma omp critical\n",
    "        std::cout << \"B \" << omp_get_thread_num() << std::endl;\n",
    "}"
   ]
  },
  {
   "cell_type": "markdown",
   "metadata": {},
   "source": [
    "To circumvent this, named regions can be used.\n",
    "This groups all critical regions by their names and only allows concurrent execution of critical regions with different names."
   ]
  },
  {
   "cell_type": "code",
   "execution_count": null,
   "metadata": {
    "tags": []
   },
   "outputs": [],
   "source": [
    "%%cpp_omp -o code/sync/named-critical.cpp\n",
    "\n",
    "#pragma omp parallel num_threads(4)\n",
    "{\n",
    "    #pragma omp critical (A)\n",
    "        std::cout << \"A \" << omp_get_thread_num() << std::endl;\n",
    "\n",
    "    #pragma omp critical (B)\n",
    "        std::cout << \"B \" << omp_get_thread_num() << std::endl;\n",
    "}"
   ]
  },
  {
   "cell_type": "markdown",
   "metadata": {},
   "source": [
    "## Atomic"
   ]
  },
  {
   "cell_type": "markdown",
   "metadata": {},
   "source": [
    "Critical regions can be very expensive.\n",
    "In many cases, using atomic operations instead is beneficial ([OpenMP 5.1 - 2.19.7](https://www.openmp.org/spec-html/5.1/openmpsu105.html)).\n",
    "\\\n",
    "Supported operations are `read`, `write` and `update`."
   ]
  },
  {
   "cell_type": "markdown",
   "metadata": {},
   "source": [
    "<div class=\"alert alert-block alert-info\"> <b>Note:</b> Even though atomics are comparatively fast, reductions are usually a better choice if they are applicable </div>"
   ]
  },
  {
   "cell_type": "code",
   "execution_count": null,
   "metadata": {
    "tags": []
   },
   "outputs": [],
   "source": [
    "%%cpp_omp -o code/sync/atomic.cpp\n",
    "\n",
    "int sum = 0;\n",
    "#pragma omp parallel num_threads(128)\n",
    "    #pragma omp atomic // default 'update'\n",
    "    sum += 1;\n",
    "\n",
    "std::cout << sum << std::endl;"
   ]
  }
 ],
 "metadata": {
  "kernelspec": {
   "display_name": "Python 3.11 (ipykernel)",
   "language": "python",
   "name": "python3"
  },
  "language_info": {
   "codemirror_mode": {
    "name": "ipython",
    "version": 3
   },
   "file_extension": ".py",
   "mimetype": "text/x-python",
   "name": "python",
   "nbconvert_exporter": "python",
   "pygments_lexer": "ipython3",
   "version": "3.11.0"
  }
 },
 "nbformat": 4,
 "nbformat_minor": 4
}
