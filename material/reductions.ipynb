{
 "cells": [
  {
   "cell_type": "markdown",
   "metadata": {
    "tags": []
   },
   "source": [
    "# Reductions"
   ]
  },
  {
   "cell_type": "markdown",
   "metadata": {
    "tags": []
   },
   "source": [
    "## Overview"
   ]
  },
  {
   "cell_type": "markdown",
   "metadata": {},
   "source": [
    "When multiple threads access the same variable, this leads to a race condition.\n",
    "\\\n",
    "This pattern frequently arises, when threads _accumulate_ their variables into a single one, e.g. to compute an overall sum or minimum."
   ]
  },
  {
   "cell_type": "markdown",
   "metadata": {},
   "source": [
    "Let's load our custom magic and consider an example."
   ]
  },
  {
   "cell_type": "code",
   "execution_count": null,
   "metadata": {
    "tags": []
   },
   "outputs": [],
   "source": [
    "%load_ext ice.magic"
   ]
  },
  {
   "cell_type": "code",
   "execution_count": null,
   "metadata": {
    "tags": []
   },
   "outputs": [],
   "source": [
    "%%cpp_omp -o code/reductions/race-cond.cpp\n",
    "\n",
    "int sum = 0;\n",
    "#pragma omp parallel num_threads(1024)\n",
    "    sum += 1;\n",
    "\n",
    "std::cout << sum << std::endl;"
   ]
  },
  {
   "cell_type": "markdown",
   "metadata": {},
   "source": [
    "The result is neither correct nor deterministic.\n",
    "You can verify the latter by running the application multiple times."
   ]
  },
  {
   "cell_type": "markdown",
   "metadata": {},
   "source": [
    "Options to fix this issue include\n",
    "* adding attitional [synchronization](synchronization.ipynb),\n",
    "* serialization of the summation, and\n",
    "* using OpenMP reductions."
   ]
  },
  {
   "cell_type": "markdown",
   "metadata": {
    "tags": []
   },
   "source": [
    "## Serialization"
   ]
  },
  {
   "cell_type": "markdown",
   "metadata": {},
   "source": [
    "The core idea is to have a local contribution per thread which is stored in an array with as many elements as threads.\n",
    "Then, after ther parallel region, the global sum is computed serially."
   ]
  },
  {
   "cell_type": "markdown",
   "metadata": {},
   "source": [
    "<div class=\"alert alert-block alert-info\"> <b>Note:</b> This works robustly, but may be slower than using OpenMP reductions. In some cases it is still preferable since the result of of operation is always <i>reproducible</i>. </div>"
   ]
  },
  {
   "cell_type": "code",
   "execution_count": null,
   "metadata": {
    "tags": []
   },
   "outputs": [],
   "source": [
    "%%cpp_omp -o code/reductions/serialized.cpp\n",
    "\n",
    "int sum = 0;\n",
    "int localSums[128];\n",
    "#pragma omp parallel num_threads(1024)\n",
    "    localSums[omp_get_thread_num()] = 1;\n",
    "\n",
    "for (auto i = 0; i < 1024; ++i)\n",
    "    sum += localSums[i];\n",
    "\n",
    "std::cout << sum << std::endl;"
   ]
  },
  {
   "cell_type": "markdown",
   "metadata": {},
   "source": [
    "## Reductions"
   ]
  },
  {
   "cell_type": "markdown",
   "metadata": {},
   "source": [
    "OpenMP reductions can combined with different OpenMP functionalities ([OpenMP 5.1 - 2.21.5](https://www.openmp.org/spec-html/5.1/openmpsu117.html)), e.g. with the parallel construct.\n",
    "\\\n",
    "Specifying a reduction is done by adding `reduction( op : var )` where\n",
    "* `op` is the operation to be performed\n",
    "* `var` is the variable to be reduced\n",
    "\n",
    "| Language  | Supported `op`                                    |\n",
    "|-----------|---------------------------------------------------|\n",
    "| C and C++ | `+`, `-`, `*`, `&`, `|`, `^`, `&&` and `||`       |\n",
    "| Fortran   | `+`, `-`, `*`, `.and.`, `.or.`, `.eqv.`, `.neqv.` |\n",
    "| Fortran   | `max`, `min`, `iand`, `ior`, `ieor`               |"
   ]
  },
  {
   "cell_type": "code",
   "execution_count": null,
   "metadata": {
    "tags": []
   },
   "outputs": [],
   "source": [
    "%%cpp_omp -o code/reductions/reduction.cpp\n",
    "\n",
    "int sum = 0;\n",
    "#pragma omp parallel num_threads(1024) reduction( + : sum )\n",
    "    sum += 1;\n",
    "\n",
    "std::cout << sum << std::endl;"
   ]
  },
  {
   "cell_type": "markdown",
   "metadata": {},
   "source": [
    "In the same fashion, reduction can be added to `parallel for`.\n",
    "Note that this time the number of threads is not fixed."
   ]
  },
  {
   "cell_type": "code",
   "execution_count": null,
   "metadata": {
    "tags": []
   },
   "outputs": [],
   "source": [
    "%%cpp_omp -o code/reductions/parallel-for.cpp\n",
    "\n",
    "int sum = 0;\n",
    "#pragma omp parallel for reduction( + : sum )\n",
    "for (auto i = 0; i < 1024; ++i)\n",
    "    sum += 1;\n",
    "\n",
    "std::cout << sum << std::endl;"
   ]
  },
  {
   "cell_type": "markdown",
   "metadata": {
    "tags": []
   },
   "source": [
    "## Reductions for Nested Constructs"
   ]
  },
  {
   "cell_type": "markdown",
   "metadata": {
    "tags": []
   },
   "source": [
    "Reductions can also appear on enclosing regions with multiple nested OpenMP primitives."
   ]
  },
  {
   "cell_type": "code",
   "execution_count": null,
   "metadata": {
    "tags": []
   },
   "outputs": [],
   "source": [
    "%%cpp_omp -o code/reductions/nested.cpp\n",
    "\n",
    "int sum = 0;\n",
    "#pragma omp parallel reduction( + : sum )\n",
    "{\n",
    "    #pragma omp for\n",
    "    for (auto i = 0; i < 1024; ++i)\n",
    "        sum += 1;\n",
    "\n",
    "    #pragma omp for\n",
    "    for (auto i = 0; i < 1024; ++i)\n",
    "        sum += 2;\n",
    "}\n",
    "\n",
    "std::cout << sum << std::endl;"
   ]
  },
  {
   "cell_type": "markdown",
   "metadata": {},
   "source": [
    "## Scopes"
   ]
  },
  {
   "cell_type": "markdown",
   "metadata": {},
   "source": [
    "Adding `scope` directives allows for reductions inside of parallel regions."
   ]
  },
  {
   "cell_type": "code",
   "execution_count": null,
   "metadata": {},
   "outputs": [],
   "source": [
    "%%cpp_omp -o code/reductions/scope.cpp\n",
    "\n",
    "int sum = 0;\n",
    "#pragma omp parallel\n",
    "{\n",
    "    //# sum must not be private here\n",
    "    #pragma omp scope reduction( + : sum )\n",
    "    {\n",
    "        #pragma omp for\n",
    "        for (auto i = 0; i < 1024; ++i)\n",
    "            sum += 1;\n",
    "    } //# implicit barrier - sum is available\n",
    "\n",
    "    if (12 == omp_get_thread_num() || 24 == omp_get_thread_num())\n",
    "        std::cout << sum << std::endl;\n",
    "}\n",
    "\n",
    "std::cout << sum << std::endl;"
   ]
  },
  {
   "cell_type": "markdown",
   "metadata": {},
   "source": [
    "## Exercise: 2D Stencil Residual"
   ]
  },
  {
   "cell_type": "markdown",
   "metadata": {},
   "source": [
    "<div class=\"alert alert-block alert-success\"> <b>Exercise:</b> Fuse loops and add reduction. </div>"
   ]
  },
  {
   "cell_type": "markdown",
   "metadata": {},
   "source": [
    "Check the code for the 2D stencil application at [code/examples/stencil-2d.cpp](code/examples/stencil-2d.cpp) and the documentation in the [examples notebook](examples.ipynb#2D-Stencil).\n",
    "For convenience, the cells for building and executing are copied below.\n",
    "\\\n",
    "Refactor the code such that\n",
    "* The residual is computed every iteration. You can find the computation at the end of the main function.\n",
    "* The residual is computed in parallel. Remember to add a suitable reduction clause.\n",
    "\n",
    "How does the performance change compared to the original version?"
   ]
  },
  {
   "cell_type": "code",
   "execution_count": null,
   "metadata": {},
   "outputs": [],
   "source": [
    "!g++ -O3 -std=c++17 -Wall -o code/examples/stencil-2d code/examples/stencil-2d.cpp"
   ]
  },
  {
   "cell_type": "code",
   "execution_count": null,
   "metadata": {},
   "outputs": [],
   "source": [
    "!code/examples/stencil-2d 4096 4096 64"
   ]
  },
  {
   "cell_type": "markdown",
   "metadata": {},
   "source": [
    "### Solution"
   ]
  },
  {
   "cell_type": "markdown",
   "metadata": {},
   "source": [
    "You can find one possible solutions at [code/solutions/reductions/stencil-2d.cpp](code/solutions/reductions/stencil-2d.cpp)."
   ]
  },
  {
   "cell_type": "code",
   "execution_count": null,
   "metadata": {
    "tags": []
   },
   "outputs": [],
   "source": [
    "!g++ -O3 -std=c++17 -Wall -fopenmp -o code/solutions/reductions/stencil-2d code/solutions/reductions/stencil-2d.cpp\n",
    "!code/solutions/reductions/stencil-2d 4096 4096 64"
   ]
  }
 ],
 "metadata": {
  "kernelspec": {
   "display_name": "Python 3.11 (ipykernel)",
   "language": "python",
   "name": "python3"
  },
  "language_info": {
   "codemirror_mode": {
    "name": "ipython",
    "version": 3
   },
   "file_extension": ".py",
   "mimetype": "text/x-python",
   "name": "python",
   "nbconvert_exporter": "python",
   "pygments_lexer": "ipython3",
   "version": "3.11.0"
  }
 },
 "nbformat": 4,
 "nbformat_minor": 4
}
