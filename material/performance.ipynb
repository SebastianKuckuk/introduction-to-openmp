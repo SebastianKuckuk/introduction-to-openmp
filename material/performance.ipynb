{
 "cells": [
  {
   "cell_type": "markdown",
   "id": "c045f231-28d0-4cb9-bff1-ed3ea9ba3ab6",
   "metadata": {},
   "source": [
    "# Performance Considerations"
   ]
  },
  {
   "cell_type": "markdown",
   "id": "7b0b3944-81af-40cd-ab01-3e90a5e7a910",
   "metadata": {
    "jp-MarkdownHeadingCollapsed": true,
    "tags": []
   },
   "source": [
    "## Overview"
   ]
  },
  {
   "cell_type": "markdown",
   "id": "c64261ee-40df-4935-9f83-e2f73ecea198",
   "metadata": {},
   "source": [
    "Here are some (very rough) guidelines when optimizing for performance of OpenMP programs:"
   ]
  },
  {
   "cell_type": "markdown",
   "id": "b9bb8098-6197-4272-81e3-80cb5d5c4dfc",
   "metadata": {},
   "source": [
    "* OpenMP synchronization can impose quite some overhead.\n",
    "    * Use explicit barriers sparingly.\n",
    "    * Use the appropriate [synchronization](synchronization.ipynb) mechanism if synchronization is necessary."
   ]
  },
  {
   "cell_type": "markdown",
   "id": "26173193-55ca-44ca-bfff-0bd3ee838b66",
   "metadata": {},
   "source": [
    "* Setting up threads can be costly.\n",
    "    * Fusing parallel regions can improve performance."
   ]
  },
  {
   "cell_type": "markdown",
   "id": "cd86882c-82c5-4632-9114-f0448c6af5d3",
   "metadata": {},
   "source": [
    "* Overheads can overshadow performance gains.    \n",
    "    * Make sure that each thread has sufficient work.\n",
    "    * In some cases, *not* parallelizing a loop/ region is the better choice."
   ]
  },
  {
   "cell_type": "markdown",
   "id": "9b6d823e-a7cb-45a4-974e-4c192207cccb",
   "metadata": {},
   "source": [
    "* Different schedules can have vastly different performance.\n",
    "    * Choose the appropriate worksharing [schedule](loops.ipynb#Scheduling) for your application."
   ]
  },
  {
   "cell_type": "markdown",
   "id": "36a428b2-66c7-4fbd-b048-9566f3e45eb4",
   "metadata": {},
   "source": [
    "Beyond these implementation centric considerations, there are also hardware and OS considerations.\n",
    "In particular, using correct pinning and honoring first touch policy can be critical.\n",
    "Both will be discussed below."
   ]
  },
  {
   "cell_type": "code",
   "execution_count": null,
   "id": "34497f2e-4c66-4032-a268-eb06178816c8",
   "metadata": {
    "tags": []
   },
   "outputs": [],
   "source": [
    "%load_ext ice.magic"
   ]
  },
  {
   "cell_type": "markdown",
   "id": "ca499a73-8c44-4d80-b4f7-3ff28723b032",
   "metadata": {
    "jp-MarkdownHeadingCollapsed": true,
    "tags": []
   },
   "source": [
    "## Topology"
   ]
  },
  {
   "cell_type": "markdown",
   "id": "00f109a7-0322-49c8-a317-99a95a7b60f9",
   "metadata": {},
   "source": [
    "<img src=\"img/performance/cc-numa.png\" alt=\"cc-numa\" width=\"50%\" style=\"background-color:white\"/>"
   ]
  },
  {
   "cell_type": "markdown",
   "id": "f1413b23",
   "metadata": {},
   "source": [
    "\n",
    "Many present day systems built on ccNUMA (cache-coherent non-uniform memory access).\n",
    "Here, memory is distributed over *locality domains* in the granularity of pages.\n",
    "Bandwidth and latency differ for accesses from one core into different locality domains."
   ]
  },
  {
   "cell_type": "markdown",
   "id": "7c52684c-c864-48b1-8855-dcf78b9e4520",
   "metadata": {},
   "source": [
    "Rule of thumb: accesses to data from a thread running on any given core is faster if the memory is located closer to that core."
   ]
  },
  {
   "cell_type": "markdown",
   "id": "c257260f-7cc6-4562-8be8-83a94650ef83",
   "metadata": {},
   "source": [
    "### Tools to Examine Topology"
   ]
  },
  {
   "cell_type": "markdown",
   "id": "2da740d0",
   "metadata": {},
   "source": [
    "Below are some tools that give various levels of detail.\n",
    "Note that not all tools may be available on all systems."
   ]
  },
  {
   "cell_type": "code",
   "execution_count": null,
   "id": "796f355f-c429-4e86-bbf0-7e9eb9b3b480",
   "metadata": {
    "tags": []
   },
   "outputs": [],
   "source": [
    "!lscpu | grep NUMA"
   ]
  },
  {
   "cell_type": "code",
   "execution_count": null,
   "id": "13f356cc-6ad3-4a15-acf3-621e40477d52",
   "metadata": {
    "tags": []
   },
   "outputs": [],
   "source": [
    "!lstopo"
   ]
  },
  {
   "cell_type": "code",
   "execution_count": null,
   "id": "fff9d572-7572-45df-9bdf-08dd27414572",
   "metadata": {
    "tags": []
   },
   "outputs": [],
   "source": [
    "!numactl -H"
   ]
  },
  {
   "cell_type": "code",
   "execution_count": null,
   "id": "0aa10073-45fb-417c-91f6-a7044fe03d0b",
   "metadata": {
    "tags": []
   },
   "outputs": [],
   "source": [
    "!likwid-topology"
   ]
  },
  {
   "cell_type": "markdown",
   "id": "e9d96aa8",
   "metadata": {},
   "source": [
    "For NVIDIA GPUs, as will be used in the [target offloading](target-offloading.ipynb) notebook, the following can be useful."
   ]
  },
  {
   "cell_type": "code",
   "execution_count": null,
   "id": "088ca0c6-14a1-4d89-a891-ded05bc3b1f0",
   "metadata": {
    "tags": []
   },
   "outputs": [],
   "source": [
    "!nvidia-smi\n",
    "!nvidia-smi topo -m"
   ]
  },
  {
   "cell_type": "markdown",
   "id": "a4a575fd-0c5d-46b4-83eb-b9e00eea78c3",
   "metadata": {
    "jp-MarkdownHeadingCollapsed": true,
    "tags": []
   },
   "source": [
    "## Pinning"
   ]
  },
  {
   "cell_type": "markdown",
   "id": "6d238c83-964b-413e-9f17-745855193032",
   "metadata": {},
   "source": [
    "By default, threads may be migrated across all available cores.\n",
    "Pinning prevents this and assigns threads to fixed *resources*.\n",
    "If the resource includes more than one core, threads can use any of those cores.\n",
    "If there are more threads then places, then threads are distributed round-robin."
   ]
  },
  {
   "cell_type": "markdown",
   "id": "c2db7151-a29d-41fb-86ca-e750da207c3f",
   "metadata": {},
   "source": [
    "OpenMP support this mechanism via the environment variables `OMP_PLACES` ([OpenMP 5.1 - 6.5](https://www.openmp.org/spec-html/5.1/openmpse62.html)) and `OMP_PROC_BIND` ([OpenMP 5.1 - 6.4](https://www.openmp.org/spec-html/5.1/openmpse61.html)).\n",
    "\\\n",
    "Setting `OMP_DISPLAY_AFFINITY` to true triggers printing debug information ([OpenMP 5.1 - 6.13](https://www.openmp.org/spec-html/5.1/openmpse70.html))"
   ]
  },
  {
   "cell_type": "markdown",
   "id": "f3964cf1-8dc5-4c0d-9cf7-a58a047c273c",
   "metadata": {},
   "source": [
    "| `OMP_PLACES`   | Places                                |\n",
    "|----------------|---------------------------------------|\n",
    "| `threads`      | hardware (SMT) threads/ virtual cores |\n",
    "| `cores`        | physical cores                        |\n",
    "| `l1_caches`    | cores sharing an L1 cache             |\n",
    "| `numa_domains` | cores in a single NUMA domain         |\n",
    "| `sockets`      | cores in a single socket              |"
   ]
  },
  {
   "cell_type": "markdown",
   "id": "1c4c7aa1-2043-4e0d-a6e3-208ae6904866",
   "metadata": {},
   "source": [
    "`OMP_PLACES` can also be a list of hardware IDs of cores as\n",
    "* list, e.g. `OMP_PLACES=\"0,2,4,6\"`,\n",
    "* list of lists, e.g. `OMP_PLACES=\"{0,2},{4,6}\"`, or\n",
    "* range with length and optional stride, e.g. `OMP_PLACES=\"{0}:4:2\"`."
   ]
  },
  {
   "cell_type": "markdown",
   "id": "69ba4404-a0fb-4753-bbe6-78adb8c7d45d",
   "metadata": {},
   "source": [
    "| `OMP_PROC_BIND` | Effect                                             |\n",
    "|-----------------|----------------------------------------------------|\n",
    "| `false`         | disable affinity                                   |\n",
    "| `true`          | enable affinity (compiler defined)                 |\n",
    "| `close`         | pin threads to adjacent places                     |\n",
    "| `spread`        | distribute threads equally over available places   |\n",
    "| `primary`       | pin all threads to the place of the initial thread |"
   ]
  },
  {
   "cell_type": "markdown",
   "id": "61578a9d-f6bd-4431-a9b1-c893255cdb40",
   "metadata": {},
   "source": [
    "<div class=\"alert alert-block alert-info\"> <b>Note:</b> The equivalent clause in the parallel construct is <code>proc_bind</code>. </div>"
   ]
  },
  {
   "cell_type": "markdown",
   "id": "b3990c9d-3081-41ae-a727-02a8ffa2f4f0",
   "metadata": {
    "jp-MarkdownHeadingCollapsed": true,
    "tags": []
   },
   "source": [
    "## Exercise: Pinning"
   ]
  },
  {
   "cell_type": "markdown",
   "id": "867e086f-6224-4516-98b7-1a43d0e47078",
   "metadata": {
    "tags": []
   },
   "source": [
    "<div class=\"alert alert-block alert-success\"> <b>Exercise:</b> Investigate pinning effects. </div>"
   ]
  },
  {
   "cell_type": "markdown",
   "id": "3bf6bb11-83dd-4f5e-a048-76e9df3bbe5f",
   "metadata": {},
   "source": [
    "Consider the example below.\n",
    "It spawns a number of threads and keeps them busy for a fixed period of time (in this case one second).\n",
    "In constrast to using a sleep method, this code generates actual CPU load which makes it suitable for our exercise."
   ]
  },
  {
   "cell_type": "code",
   "execution_count": null,
   "id": "eb6ad0c9-dc51-4282-84e4-a63b8c3fec79",
   "metadata": {
    "tags": []
   },
   "outputs": [],
   "source": [
    "%%cpp_omp -o code/performance/busy-wait.cpp -v -e OMP_NUM_THREADS=12 OMP_DISPLAY_AFFINITY=true\n",
    "\n",
    "#pragma omp parallel\n",
    "{\n",
    "    auto start = omp_get_wtime();\n",
    "    auto duration = 0.;\n",
    "    while (duration < 1.000) //# seconds\n",
    "       duration = omp_get_wtime() - start;\n",
    "}"
   ]
  },
  {
   "cell_type": "markdown",
   "id": "aea4a610-c50c-4453-9187-23ff632b1073",
   "metadata": {},
   "source": [
    "Your tasks are\n",
    "* Examine the topology of the compute you are currently running on\n",
    "* Open a separate terminal (`file` > `new` > `terminal`) and start 'htop'\n",
    "    * htop visualizes the current load per core\n",
    "* Vary the number of threads and apply different pinning strategies\n",
    "    * observe the respective effects with htop\n",
    "    * feel free to change the time each thread 'works'"
   ]
  },
  {
   "cell_type": "markdown",
   "id": "ab0eb182-90f8-4e9e-bc23-0fc4d5b18528",
   "metadata": {
    "jp-MarkdownHeadingCollapsed": true,
    "tags": []
   },
   "source": [
    "## NUMA Considerations"
   ]
  },
  {
   "cell_type": "markdown",
   "id": "d421ab4e-c45a-4832-adaf-0691a6f1b407",
   "metadata": {
    "tags": []
   },
   "source": [
    "### First Touch"
   ]
  },
  {
   "cell_type": "markdown",
   "id": "e09654e7-8df6-4083-81f1-f603867a2eea",
   "metadata": {
    "tags": []
   },
   "source": [
    "First touch policy\n",
    "typically memory is allocated in two stages\n",
    "memory is only reserved* but not yet associated with pages in RAM\n",
    "writing to not yet associated pages triggers allocation\n",
    "a memory page is placed into the locality domain the core touching it belongs to\n",
    "\n",
    "```cpp\n",
    "int *vec = new int[1024];       // memory is 'reserved'\n",
    "\n",
    "for (auto i = 0; i < 1024; ++i)\n",
    "    vec[i] = 0;                 // first touch allocates pages in corresponding NUMA domain\n",
    "```"
   ]
  },
  {
   "cell_type": "markdown",
   "id": "ed0e9510",
   "metadata": {},
   "source": [
    "\n",
    "<div class=\"alert alert-block alert-info\"> <b>Note:</b> Policies other than first touch can be selected with <code>numactl</code>. </div>"
   ]
  },
  {
   "cell_type": "code",
   "execution_count": null,
   "id": "72280575-a778-47c1-8f1a-be5b4d6e0381",
   "metadata": {
    "tags": []
   },
   "outputs": [],
   "source": [
    "%%cpp_omp -o code/performance/first-touch.cpp -e OMP_PROC_BIND=close OMP_PLACES=cores\n",
    "\n",
    "constexpr auto N = 256 * 1024 * 1024;\n",
    "\n",
    "int *vec = new int[N];\n",
    "\n",
    "☝\n",
    "for (auto i = 0; i < N; ++i)\n",
    "    vec[i] = i;\n",
    "\n",
    "auto start = omp_get_wtime();\n",
    "\n",
    "#pragma omp parallel for schedule(static)\n",
    "☝\n",
    "for (auto i = 0; i < N; ++i)\n",
    "    vec[i] *= 2;\n",
    "\n",
    "auto end = omp_get_wtime();\n",
    "std::cout << \"Total time: \" << 1e3 * (end - start) << \" ms\" << std::endl;"
   ]
  },
  {
   "cell_type": "markdown",
   "id": "ecad1403",
   "metadata": {},
   "source": [
    "Try to see differences in performance when the first loop is also parallelized with OpenMP and the same schedule as the main work loop."
   ]
  },
  {
   "cell_type": "markdown",
   "id": "d779e21f-dddf-4926-832e-076194a9e29f",
   "metadata": {},
   "source": [
    "### NUMA Balancing"
   ]
  },
  {
   "cell_type": "markdown",
   "id": "e1f43b55-9f1f-4a08-95f9-e9b538de1001",
   "metadata": {},
   "source": [
    "The operating system automatically migrates pages between NUMA nodes to increase performance (even though this incurs initial overhead).\n",
    "Whether this is active and different settings can be checked with the following commands (0 means disabled, 1 means enabled):"
   ]
  },
  {
   "cell_type": "code",
   "execution_count": null,
   "id": "07e9a829-bf73-47e9-ab0c-d5f2f890471d",
   "metadata": {
    "tags": []
   },
   "outputs": [],
   "source": [
    "!cat /proc/sys/kernel/numa_balancing"
   ]
  },
  {
   "cell_type": "code",
   "execution_count": null,
   "id": "80b216a4-5044-406b-84c1-f3a311cd79c3",
   "metadata": {
    "tags": []
   },
   "outputs": [],
   "source": [
    "!grep .\\* /proc/sys/kernel/numa_balancing*"
   ]
  },
  {
   "cell_type": "markdown",
   "id": "e9aef8ac-f55c-4cba-8d7a-3a7bc20e9bcd",
   "metadata": {
    "jp-MarkdownHeadingCollapsed": true,
    "tags": []
   },
   "source": [
    "## Exercise: Pinned Stream Benchmark"
   ]
  },
  {
   "cell_type": "markdown",
   "id": "eab604b0-47ff-4dbe-a75f-b8363f14ea7c",
   "metadata": {
    "tags": []
   },
   "source": [
    "<div class=\"alert alert-block alert-success\"> <b>Exercise:</b> Investigate pinning. </div>"
   ]
  },
  {
   "cell_type": "markdown",
   "id": "3de8a84e-d208-4017-ac41-09da43ee31db",
   "metadata": {},
   "source": [
    "This exercise assumes, that the stream benchmark application at [code/examples/stream.cpp](code/examples/stream.cpp) is already parallelized with OpenMP.\n",
    "If this is not the case, you can copy the contents of a previous solution ([code/solutions/loops/stream.cpp](code/solutions/loops/stream.cpp)).\n",
    "Also feel free to (re-)check the documentation in the [examples notebook](examples.ipynb#Stream-Benchmark).\n",
    "For convenience, the cells for building and executing are copied below.\n",
    "\\\n",
    "Investigate performance for the already parallelized stream by following these steps:\n",
    "* Start with 72 threads, compact (close) pinning to cores, and static scheduling\n",
    "    * Can you observe performance deviations for the first two iterations?\n",
    "    * Parallelize the initialization as well and repeat your experiments. Did the performance change?\n",
    "* Investigate the effect of applying pinning for 72 threads\n",
    "    * Start with a static schedule. How does performance vary for other schedules?\n",
    "    * How does performance compare to a version without pinning?\n",
    "* Investigate performance for less than 72 threads\n",
    "    * Check 1, 18 and 36 threads\n",
    "    * Which pinning configuration yields the highest performance for each thread count assuming static scheduling?"
   ]
  },
  {
   "cell_type": "code",
   "execution_count": null,
   "id": "77ef7a1a-4868-4950-b333-3ffedb308682",
   "metadata": {
    "tags": []
   },
   "outputs": [],
   "source": [
    "!g++ -O3 -std=c++17 -Wall -o code/examples/stream code/examples/stream.cpp"
   ]
  },
  {
   "cell_type": "code",
   "execution_count": null,
   "id": "fb80cc12-63d0-4299-a5df-d43d8dd1054a",
   "metadata": {
    "tags": []
   },
   "outputs": [],
   "source": [
    "!code/examples/stream $((32 * 1024 * 1024)) 4"
   ]
  },
  {
   "cell_type": "markdown",
   "id": "bc7efcf7-11cb-489a-ab4f-2846f5182d19",
   "metadata": {
    "jp-MarkdownHeadingCollapsed": true,
    "tags": []
   },
   "source": [
    "### Solution"
   ]
  },
  {
   "cell_type": "markdown",
   "id": "227c0ce5-7207-4cd7-94c3-593742a6fc47",
   "metadata": {
    "tags": []
   },
   "source": [
    "You can find one possible solution at [code/solutions/performance/stream.cpp](code/solutions/performance/stream.cpp).\n",
    "The following cells evaluate different scheduling and pinning strategies."
   ]
  },
  {
   "cell_type": "markdown",
   "id": "541b1a2e-2699-4d99-9d5d-840b4b1e9d1c",
   "metadata": {
    "tags": []
   },
   "source": [
    "We first establish a base line by using the solution from the loops exercise (i.e. the one without parallel initialization)."
   ]
  },
  {
   "cell_type": "code",
   "execution_count": null,
   "id": "a102d6c5-79cf-40b8-9111-1a879920ff0b",
   "metadata": {},
   "outputs": [],
   "source": [
    "!g++ -O3 -std=c++17 -Wall -fopenmp -o code/solutions/performance/stream code/solutions/loops/stream.cpp\n",
    "!OMP_NUM_THREADS=72 \\\n",
    "    OMP_PROC_BIND=close \\\n",
    "    OMP_PLACES=cores \\\n",
    "    OMP_DISPLAY_AFFINITY=true \\\n",
    "    OMP_SCHEDULE=static \\\n",
    "    code/solutions/loops/stream $((32 * 1024 * 1024)) 4"
   ]
  },
  {
   "cell_type": "markdown",
   "id": "99b5441d-224b-40b9-a813-6858c1899058",
   "metadata": {},
   "source": [
    "Now we can compare it to our updated solution."
   ]
  },
  {
   "cell_type": "code",
   "execution_count": null,
   "id": "861cd87b-a521-4f99-a747-6edf9067f7cc",
   "metadata": {
    "tags": []
   },
   "outputs": [],
   "source": [
    "!g++ -O3 -std=c++17 -Wall -fopenmp -o code/solutions/performance/stream code/solutions/performance/stream.cpp"
   ]
  },
  {
   "cell_type": "code",
   "execution_count": null,
   "id": "b507a8a8-ffe0-4446-95f4-d8f9f9761c90",
   "metadata": {
    "tags": []
   },
   "outputs": [],
   "source": [
    "!OMP_NUM_THREADS=72 \\\n",
    "    OMP_PROC_BIND=close \\\n",
    "    OMP_PLACES=cores \\\n",
    "    OMP_DISPLAY_AFFINITY=true \\\n",
    "    OMP_SCHEDULE=static \\\n",
    "    code/solutions/performance/stream $((32 * 1024 * 1024)) 4"
   ]
  },
  {
   "cell_type": "code",
   "execution_count": null,
   "id": "bf0d3856-e2bd-400c-8985-d1ac29a448be",
   "metadata": {
    "tags": []
   },
   "outputs": [],
   "source": [
    "!OMP_NUM_THREADS=36 \\\n",
    "    OMP_PROC_BIND=close \\\n",
    "    OMP_PLACES=cores \\\n",
    "    OMP_DISPLAY_AFFINITY=false \\\n",
    "    OMP_SCHEDULE=static \\\n",
    "    code/solutions/performance/stream $((32 * 1024 * 1024)) 4"
   ]
  },
  {
   "cell_type": "code",
   "execution_count": null,
   "id": "a954d06a-2f87-450f-9827-97fd900d328d",
   "metadata": {
    "tags": []
   },
   "outputs": [],
   "source": [
    "!OMP_NUM_THREADS=36 \\\n",
    "    OMP_PROC_BIND=spread \\\n",
    "    OMP_PLACES=cores \\\n",
    "    OMP_DISPLAY_AFFINITY=false \\\n",
    "    OMP_SCHEDULE=static \\\n",
    "    code/solutions/performance/stream $((32 * 1024 * 1024)) 4"
   ]
  },
  {
   "cell_type": "code",
   "execution_count": null,
   "id": "9b79cf34-e782-4c70-a1ac-3af0da3af3f8",
   "metadata": {
    "tags": []
   },
   "outputs": [],
   "source": [
    "!OMP_NUM_THREADS=18 \\\n",
    "    OMP_PROC_BIND=close \\\n",
    "    OMP_PLACES=cores \\\n",
    "    OMP_DISPLAY_AFFINITY=false \\\n",
    "    OMP_SCHEDULE=static \\\n",
    "    code/solutions/performance/stream $((32 * 1024 * 1024)) 4"
   ]
  },
  {
   "cell_type": "code",
   "execution_count": null,
   "id": "9bdedd7d-5a4d-47e4-bc37-f0c208a1ba9f",
   "metadata": {
    "tags": []
   },
   "outputs": [],
   "source": [
    "!OMP_NUM_THREADS=18 \\\n",
    "    OMP_PROC_BIND=spread \\\n",
    "    OMP_PLACES=cores \\\n",
    "    OMP_DISPLAY_AFFINITY=false \\\n",
    "    OMP_SCHEDULE=static \\\n",
    "    code/solutions/performance/stream $((32 * 1024 * 1024)) 4"
   ]
  },
  {
   "cell_type": "code",
   "execution_count": null,
   "id": "c71889b4-1a03-451f-a49e-18daf0d53ca2",
   "metadata": {
    "tags": []
   },
   "outputs": [],
   "source": [
    "!OMP_NUM_THREADS=1 \\\n",
    "    OMP_PROC_BIND=close \\\n",
    "    OMP_PLACES=cores \\\n",
    "    OMP_DISPLAY_AFFINITY=false \\\n",
    "    OMP_SCHEDULE=static \\\n",
    "    code/solutions/performance/stream $((32 * 1024 * 1024)) 4"
   ]
  }
 ],
 "metadata": {
  "kernelspec": {
   "display_name": "Python 3 (ipykernel)",
   "language": "python",
   "name": "python3"
  },
  "language_info": {
   "codemirror_mode": {
    "name": "ipython",
    "version": 3
   },
   "file_extension": ".py",
   "mimetype": "text/x-python",
   "name": "python",
   "nbconvert_exporter": "python",
   "pygments_lexer": "ipython3",
   "version": "3.11.3"
  }
 },
 "nbformat": 4,
 "nbformat_minor": 5
}
