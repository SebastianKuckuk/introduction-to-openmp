{
 "cells": [
  {
   "cell_type": "markdown",
   "metadata": {},
   "source": [
    "# Introduction"
   ]
  },
  {
   "cell_type": "markdown",
   "metadata": {},
   "source": [
    "## Overview"
   ]
  },
  {
   "cell_type": "markdown",
   "metadata": {},
   "source": [
    "* Main aim: provide *standardized* way to *parallelize* applications with *threads* using *directives* and *runtime functions*\n",
    "* Standard is available online at [https://www.openmp.org/specifications](https://www.openmp.org/specifications)\n",
    "    * as pdf, currently version 5.2 from Nov. 2021, 669 pages\n",
    "    * as html, currently version 5.1 from Nov. 2020 ($\\leftarrow$ course links to this)\n",
    "* Supported languages: C, C++, FORTRAN\n",
    "* Requires compiler support, and runtime\n",
    "    * Each compiler implements the standard in its own way\n",
    "    * Different compiler versions have varying support ([compiler support overview](https://www.openmp.org/resources/openmp-compilers-tools/))\n",
    "* Targets shared memory architectures\n",
    "    * Distributed memory requires additional parallelization, e.g. with MPI\n",
    "* A glossary is included in case any technical terms are unclear ([OpenMP 5.1 - 1.2](https://www.openmp.org/spec-html/5.1/openmpse2.html))"
   ]
  },
  {
   "cell_type": "markdown",
   "metadata": {
    "tags": []
   },
   "source": [
    "## Code Workflow"
   ]
  },
  {
   "cell_type": "markdown",
   "metadata": {},
   "source": [
    "Let's start with a simple (serial) hello world application in C++ as baseline.\n",
    "\n",
    "We will use the custom magic function `cpp` which is part of the _instantiate, compile and execute (ICE)_ class.\n",
    "When used, it performs the following steps for any code snippet passed to it:\n",
    "* The code is wrapped with a main function and\n",
    "* header includes are added.\n",
    "* The resulting application is stored in an output file,\n",
    "* compiled and\n",
    "* executed."
   ]
  },
  {
   "cell_type": "markdown",
   "metadata": {},
   "source": [
    "The Python code can be reviewed in [ice_magic.py](./ice_magic.py)."
   ]
  },
  {
   "cell_type": "code",
   "execution_count": null,
   "metadata": {
    "tags": []
   },
   "outputs": [],
   "source": [
    "%load_ext ice.magic"
   ]
  },
  {
   "cell_type": "code",
   "execution_count": null,
   "metadata": {
    "tags": []
   },
   "outputs": [],
   "source": [
    "%%cpp -o code/introduction/hello-world.cpp\n",
    "\n",
    "std::cout << \"Hello world\" << std::endl;"
   ]
  },
  {
   "cell_type": "markdown",
   "metadata": {},
   "source": [
    "The (last) generated application code can be highlighted with markdown by using the `%display_cpp` magic."
   ]
  },
  {
   "cell_type": "code",
   "execution_count": null,
   "metadata": {
    "tags": []
   },
   "outputs": [],
   "source": [
    "%display_cpp"
   ]
  },
  {
   "cell_type": "markdown",
   "metadata": {},
   "source": [
    "Adding the `--verbose` flag (or `-v` for short) displays additional information on each  step performed."
   ]
  },
  {
   "cell_type": "code",
   "execution_count": null,
   "metadata": {
    "tags": []
   },
   "outputs": [],
   "source": [
    "%%cpp -o code/introduction/hello-world.cpp -v\n",
    "\n",
    "std::cout << \"Hello world\" << std::endl;"
   ]
  },
  {
   "cell_type": "markdown",
   "metadata": {},
   "source": [
    "Lastly, using the `--help` flag (or `-h` for short) displays additional information about available arguments."
   ]
  },
  {
   "cell_type": "code",
   "execution_count": null,
   "metadata": {
    "tags": []
   },
   "outputs": [],
   "source": [
    "%%cpp --help\n",
    "\n",
    "std::cout << \"Hello world\" << std::endl;"
   ]
  },
  {
   "cell_type": "markdown",
   "metadata": {
    "tags": []
   },
   "source": [
    "## First OpenMP application"
   ]
  },
  {
   "cell_type": "markdown",
   "metadata": {},
   "source": [
    "At this point we can write our first OpenMP parallelized code.\n",
    "We use the `parallel` construct ([OpenMP 5.0 - 2.6](https://www.openmp.org/spec-html/5.0/openmpse14.html))."
   ]
  },
  {
   "cell_type": "code",
   "execution_count": null,
   "metadata": {
    "tags": []
   },
   "outputs": [],
   "source": [
    "%%cpp -o code/introduction/hello-world-omp.cpp -v\n",
    "\n",
    "#pragma omp parallel\n",
    "    std::cout << \"Hello world\" << std::endl;"
   ]
  },
  {
   "cell_type": "markdown",
   "metadata": {},
   "source": [
    "Without adaptation our code still runs serially.\n",
    "To actually enable OpenMP parallelization, we also have to pass an additional argument to our compiler.\n",
    "\n",
    "For g++, this flag is simply `-fopenmp`.\n",
    "We can specify the compile flags used when invoking our magic command (`%%cpp --def-flags O3 march=native std=c++17 Wall fopenmp` or `%%cpp --flags fopenmp`), or simply use the specialized magic `cpp_omp`."
   ]
  },
  {
   "cell_type": "markdown",
   "metadata": {},
   "source": [
    "<div class=\"alert alert-block alert-info\"> <b>Note:</b> we add the <code>-Wall</code> flag by default since it includes <code>-Wunknown-pragmas</code>. </div>\n"
   ]
  },
  {
   "cell_type": "code",
   "execution_count": null,
   "metadata": {
    "tags": []
   },
   "outputs": [],
   "source": [
    "%%cpp_omp -o code/introduction/hello-world-omp-ext.cpp -v\n",
    "\n",
    "std::cout << \"This is serial\" << std::endl;\n",
    "\n",
    "#pragma omp parallel\n",
    "    std::cout << \"This is parallel\" << std::endl;\n",
    "    \n",
    "std::cout << \"This is serial\" << std::endl;"
   ]
  },
  {
   "cell_type": "markdown",
   "metadata": {},
   "source": [
    "In this code, everything is executed (serially) by the initial thread.\n",
    "When a parallel region is encountered, the intial thread forks and multiple threads execute that region.\n",
    "At the end of the region, parallel threads wait at an imlicit barrier before joining."
   ]
  },
  {
   "cell_type": "markdown",
   "metadata": {},
   "source": [
    "<img src=\"img/introduction/parallel.svg\" alt=\"omp-parallel\" width=\"50%\"/>"
   ]
  },
  {
   "cell_type": "markdown",
   "metadata": {
    "tags": []
   },
   "source": [
    "## Different compilers"
   ]
  },
  {
   "cell_type": "markdown",
   "metadata": {
    "tags": []
   },
   "source": [
    "Different flag(s) are required for different compilers:\n",
    "| compiler              | flag       |\n",
    "|-----------------------|------------|\n",
    "| gcc, g++, gfortran    | `-fopenmp` |\n",
    "| clang, clang++, flang | `-fopenmp` |\n",
    "| icc, icpc, ifort      | `-qopenmp` |\n",
    "| icx, icpx, ifx        | `-qopenmp` |"
   ]
  },
  {
   "cell_type": "markdown",
   "metadata": {
    "tags": []
   },
   "source": [
    "For Intel's icpx for example:"
   ]
  },
  {
   "cell_type": "code",
   "execution_count": null,
   "metadata": {
    "tags": []
   },
   "outputs": [],
   "source": [
    "%%cpp_omp -o code/introduction/hello-world-intel.cpp -v\n",
    "\n",
    "#pragma omp parallel\n",
    "    std::cout << \"This is parallel\" << std::endl;"
   ]
  },
  {
   "cell_type": "code",
   "execution_count": null,
   "metadata": {
    "tags": []
   },
   "outputs": [],
   "source": [
    "%%cpp_omp -o code/introduction/hello-world-intel.cpp -v -c icpx -F O3 march=native std=c++17 Wall qopenmp\n",
    "\n",
    "#pragma omp parallel\n",
    "    std::cout << \"This is parallel\" << std::endl;"
   ]
  },
  {
   "cell_type": "markdown",
   "metadata": {
    "tags": []
   },
   "source": [
    "## Controling Threads"
   ]
  },
  {
   "cell_type": "markdown",
   "metadata": {},
   "source": [
    "Next, we want to tune the number of OpenMP threads executing our print statement, and make each thread print a unique message.\n",
    "There are different mechanisms to do this (in decreasing order of priority):\n",
    "* Adding the `num_threads` clause ([OpenMP 5.1 - 2.6](https://www.openmp.org/spec-html/5.1/openmpse14.html))\n",
    "* Calling the `omp_set_num_threads` function ([OpenMP 5.1 - 3.2.1](https://www.openmp.org/spec-html/5.1/openmpsu120.html))\n",
    "* Setting the `OMP_NUM_THREADS` environment variable ([OpenMP 5.1 - 6.2](https://www.openmp.org/spec-html/5.1/openmpse59.html))"
   ]
  },
  {
   "cell_type": "markdown",
   "metadata": {},
   "source": [
    "\n",
    "For modifying the message we use OpenMP API functions (note that this requires including the `omp.h` header)\n",
    "* `omp_get_thread_num` which returns the index of the calling thread ([OpenMP 5.1 - 3.2.4](https://www.openmp.org/spec-html/5.1/openmpsu123.html))\n",
    "* `omp_get_num_threads` which returns the current number of threads ([OpenMP 5.1 - 3.2.2](https://www.openmp.org/spec-html/5.1/openmpsu121.html))"
   ]
  },
  {
   "cell_type": "code",
   "execution_count": null,
   "metadata": {
    "tags": []
   },
   "outputs": [],
   "source": [
    "%%cpp_omp -o code/introduction/hello-world-num-threads.cpp\n",
    "\n",
    "#pragma omp parallel num_threads(4)\n",
    "    std::cout << \"Hello world\" << std::endl;"
   ]
  },
  {
   "cell_type": "code",
   "execution_count": null,
   "metadata": {
    "tags": []
   },
   "outputs": [],
   "source": [
    "%%cpp_omp -o code/introduction/get-thread-num-serial.cpp\n",
    "\n",
    "// serial execution\n",
    "std::cout << \"Hello from thread \" << omp_get_thread_num() << \" of \" << omp_get_num_threads() << std::endl;"
   ]
  },
  {
   "cell_type": "code",
   "execution_count": null,
   "metadata": {
    "tags": []
   },
   "outputs": [],
   "source": [
    "%%cpp_omp -o code/introduction/num-threads.cpp\n",
    "\n",
    "# pragma omp parallel num_threads(4)\n",
    "    std::cout << \"Hello from thread \" << omp_get_thread_num() << \" of \" << omp_get_num_threads() << std::endl;"
   ]
  },
  {
   "cell_type": "code",
   "execution_count": null,
   "metadata": {
    "tags": []
   },
   "outputs": [],
   "source": [
    "%%cpp_omp -o code/introduction/set-num-threads.cpp\n",
    "\n",
    "omp_set_num_threads(4);\n",
    "#pragma omp parallel\n",
    "    std::cout << \"Hello from thread \" << omp_get_thread_num() << \" of \" << omp_get_num_threads() << std::endl;"
   ]
  },
  {
   "cell_type": "code",
   "execution_count": null,
   "metadata": {
    "tags": []
   },
   "outputs": [],
   "source": [
    "%%cpp_omp --env OMP_NUM_THREADS=4 -v -o code/introduction/env-num-threads.cpp\n",
    "\n",
    "#pragma omp parallel\n",
    "    std::cout << \"Hello from thread \" << omp_get_thread_num() << \" of \" << omp_get_num_threads() << std::endl;"
   ]
  },
  {
   "cell_type": "markdown",
   "metadata": {
    "tags": []
   },
   "source": [
    "## OpenMP Timers"
   ]
  },
  {
   "cell_type": "markdown",
   "metadata": {},
   "source": [
    "OpenMP provides an easy to use timer interface.\n",
    "Code regions to be timed are wrapped in `omp_get_wtime` API calls ([OpenMP 5.1 - 3.10.1](https://www.openmp.org/spec-html/5.1/openmpsu185.html)).\n",
    "\\\n",
    "This can either be done outside of parallel regions, or inside for per-thread timing."
   ]
  },
  {
   "cell_type": "code",
   "execution_count": null,
   "metadata": {
    "tags": []
   },
   "outputs": [],
   "source": [
    "%%cpp_omp -o code/introduction/time-app.cpp\n",
    "\n",
    "auto start = omp_get_wtime();\n",
    "\n",
    "#pragma omp parallel num_threads(4)\n",
    "{\n",
    "    std::this_thread::sleep_for(std::chrono::milliseconds(128));\n",
    "}\n",
    "\n",
    "auto end = omp_get_wtime();\n",
    "std::cout << \"Total time: \" << 1e3 * (end - start) << \" ms\" << std::endl;"
   ]
  },
  {
   "cell_type": "code",
   "execution_count": null,
   "metadata": {
    "tags": []
   },
   "outputs": [],
   "source": [
    "%%cpp_omp -o code/introduction/time-thread.cpp\n",
    "\n",
    "#pragma omp parallel num_threads(4)\n",
    "{\n",
    "    auto start = omp_get_wtime();\n",
    "\n",
    "    std::this_thread::sleep_for(std::chrono::milliseconds(128 + 32 * omp_get_thread_num()));\n",
    "\n",
    "    auto end = omp_get_wtime();\n",
    "    std::cout << \"Time for thread \" << omp_get_thread_num() << \" : \" << 1e3 * (end - start) << \" ms\" << std::endl;\n",
    "}"
   ]
  },
  {
   "cell_type": "markdown",
   "metadata": {},
   "source": [
    "For convenience, the provided Python magic supports adding timer functionalities automatically by setting the `--time` flag (or `-t` for short).\n",
    "The source code can be reviewed in [ice-magic](ice_magic.py:75)."
   ]
  },
  {
   "cell_type": "code",
   "execution_count": null,
   "metadata": {
    "tags": []
   },
   "outputs": [],
   "source": [
    "%%cpp_omp -o code/introduction/generated-time.cpp --time -d\n",
    "\n",
    "#pragma omp parallel num_threads(4)\n",
    "    std::this_thread::sleep_for(std::chrono::milliseconds(128));"
   ]
  }
 ],
 "metadata": {
  "kernelspec": {
   "display_name": "Python 3.11 (ipykernel)",
   "language": "python",
   "name": "python3"
  },
  "language_info": {
   "codemirror_mode": {
    "name": "ipython",
    "version": 3
   },
   "file_extension": ".py",
   "mimetype": "text/x-python",
   "name": "python",
   "nbconvert_exporter": "python",
   "pygments_lexer": "ipython3",
   "version": "3.11.9"
  }
 },
 "nbformat": 4,
 "nbformat_minor": 4
}
