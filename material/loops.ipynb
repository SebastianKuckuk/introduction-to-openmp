{
 "cells": [
  {
   "cell_type": "markdown",
   "id": "48f41982-4689-4818-ba04-30b700020de7",
   "metadata": {},
   "source": [
    "# Handling Loops"
   ]
  },
  {
   "cell_type": "markdown",
   "id": "57bca268-536c-462c-b995-dcdceb230e56",
   "metadata": {
    "tags": []
   },
   "source": [
    "## Overview"
   ]
  },
  {
   "cell_type": "markdown",
   "id": "39f5814f-e48a-498d-8271-c324eaf9fe70",
   "metadata": {},
   "source": [
    "One of the most common tasks is to accelerate/ parallelize (nested) for loops.\n",
    "OpenMP offers worksharing constructs to facilitate this."
   ]
  },
  {
   "cell_type": "markdown",
   "id": "e6a6bc9f",
   "metadata": {},
   "source": [
    "<div class=\"alert alert-block alert-warning\"> <b>Warning:</b> We assume pleasingly parallel loops, i.e. loops in which no data dependencies between iterations exist. </div>\n",
    "\n",
    "This loop fulfills the restriction (as long as `a` and `b` are not _aliased_)\n",
    "```cpp\n",
    "for (auto i = 1; i < N; ++i)\n",
    "    a[i] = b[i] - b[i - 1];\n",
    "```\n",
    "This one doesn't\n",
    "```cpp\n",
    "for (auto i = 1; i < N; ++i)\n",
    "    a[i] = a[i - 1];\n",
    "```\n",
    "\n",
    "If loops carry data dependencies, different approaches are possible:\n",
    "* loop transformations to eliminate data dependencies (loop splitting/ fusion, loop remapping),\n",
    "* data duplication (e.g. introducing source and destination arrays), or\n",
    "* additional [synchronization](synchronization.ipynb)."
   ]
  },
  {
   "cell_type": "markdown",
   "id": "a4021835-21d9-4fba-b378-f193f12f0dc4",
   "metadata": {},
   "source": [
    "## Manual Approach"
   ]
  },
  {
   "cell_type": "markdown",
   "id": "c1cf5cf6-cc70-4f90-ae59-130dceac5eb1",
   "metadata": {},
   "source": [
    "Let's first load our custom cell magic and implement a serial baseline to be parallelized afterwards."
   ]
  },
  {
   "cell_type": "code",
   "execution_count": null,
   "id": "0665aad5-2f83-408c-9e1d-8a350dda57d2",
   "metadata": {
    "tags": []
   },
   "outputs": [],
   "source": [
    "%load_ext ice.magic"
   ]
  },
  {
   "cell_type": "markdown",
   "id": "df5fb730-9219-4ffc-9ed3-e830f559d6bc",
   "metadata": {},
   "source": [
    "Our baseline code performs a *vector init*, i.e. sets each element of an array to a fixed value.\n",
    "\\\n",
    "We add a print statement after the loop to prevent the compiler from optimizing the whole loop away."
   ]
  },
  {
   "cell_type": "code",
   "execution_count": null,
   "id": "c1087546-88c4-498a-a804-3b3762651524",
   "metadata": {
    "tags": []
   },
   "outputs": [],
   "source": [
    "%%cpp -o code/loops/serial.cpp\n",
    "\n",
    "constexpr auto N = 1024;\n",
    "int vec[N];\n",
    "\n",
    "for (auto i = 0; i < N; ++i)\n",
    "    vec[i] = i;\n",
    "\n",
    "std::cout << vec[N - 1] << std::endl;"
   ]
  },
  {
   "cell_type": "markdown",
   "id": "2e803c43-c9df-4a35-b9e8-6f44974404b9",
   "metadata": {},
   "source": [
    "Using only the tools we've learned so far already allows parallelization.\n",
    "\\\n",
    "For this, we divide the loop iteration space into (almost) equal sized chunks.\n",
    "\\\n",
    "Each thread then sets all the elements in its respective chunk."
   ]
  },
  {
   "cell_type": "code",
   "execution_count": null,
   "id": "1f532f08-edbd-436f-ad06-ee4eb9fdeeae",
   "metadata": {
    "tags": []
   },
   "outputs": [],
   "source": [
    "%%cpp_omp -o code/loops/manual.cpp\n",
    "\n",
    "constexpr auto N = 1024;\n",
    "int vec[N];\n",
    "\n",
    "#pragma omp parallel\n",
    "{\n",
    "    int tid = omp_get_thread_num();                 //# get thread number\n",
    "    int nt = omp_get_num_threads();                 //# get number of threads\n",
    "    int per_thread = N / nt;                        //# elements per thread (rounded down)\n",
    "    int remainder = N % nt;                         //# remaining elements (due to rounding)\n",
    "    int lower  = tid * per_thread;                  //# start of this thread's chunk\n",
    "    lower += tid < remainder ? tid : remainder;     //# modification for uneven chunk size\n",
    "    int upper  = lower + per_thread;                //# end of this thread's chunk\n",
    "    upper += tid < remainder ? 1 : 0;               //# modification for uneven chunk size\n",
    "\n",
    "    for (int i = lower; i < upper; ++i)             //# loop over this thread's chunk\n",
    "        vec[i] = i;                                 //# vector element initialization\n",
    "}\n",
    "\n",
    "std::cout << vec[N - 1] << std::endl;"
   ]
  },
  {
   "cell_type": "markdown",
   "id": "1775ac32-cf1b-40b0-883b-6b5d2de89c5c",
   "metadata": {},
   "source": [
    "## For Construct"
   ]
  },
  {
   "cell_type": "markdown",
   "id": "5e584512-116c-42b7-bfa1-146d7e4b3fb5",
   "metadata": {},
   "source": [
    "While this style of coding works, it is quite cumbersome.\n",
    "Using the OpenMP `for` construct instructs the compiler to do something similar ([OpenMP 5.1 - 2.11.4](https://www.openmp.org/spec-html/5.1/openmpsu48.html)).\n",
    "This requires threads to be already existent, i.e. this constructs expects an enclosing parallel region."
   ]
  },
  {
   "cell_type": "markdown",
   "id": "1dc262e9-0284-4c1d-b728-f229d7bf1e80",
   "metadata": {},
   "source": [
    "<div class=\"alert alert-block alert-info\"> <b>Note:</b> This automatically privatizes the loop iterator. </div>"
   ]
  },
  {
   "cell_type": "code",
   "execution_count": null,
   "id": "92e22a97-dd1c-4eb3-92de-ab2e1251f706",
   "metadata": {
    "tags": []
   },
   "outputs": [],
   "source": [
    "%%cpp_omp -o code/loops/for.cpp -v\n",
    "\n",
    "constexpr auto N = 1024;\n",
    "int vec[N];\n",
    "\n",
    "#pragma omp parallel\n",
    "{\n",
    "#pragma omp for\n",
    "    for (auto i = 0; i < N; ++i)\n",
    "        vec[i] = i;\n",
    "}\n",
    "\n",
    "std::cout << vec[N - 1] << std::endl;"
   ]
  },
  {
   "cell_type": "markdown",
   "id": "3e8964d0-9042-42c0-8262-d243d4da3892",
   "metadata": {},
   "source": [
    "At the end of the region and implicit barrier is executed. It can be eliminated by adding the `nowait` clause which might lead to better resource utilization."
   ]
  },
  {
   "cell_type": "markdown",
   "id": "e575b193-7e71-411e-b960-c425d9eb524b",
   "metadata": {},
   "source": [
    "<div class=\"alert alert-block alert-warning\"> <b>Warning:</b> Only do this when there are no data dependencies between subsequent loops. </div>"
   ]
  },
  {
   "cell_type": "markdown",
   "id": "1bace198-18f0-47b0-bbae-34813d5644f1",
   "metadata": {},
   "source": [
    "<div class=\"alert alert-block alert-info\"> <b>Note:</b> Merging loops may lead to even better performance. </div>"
   ]
  },
  {
   "cell_type": "code",
   "execution_count": null,
   "id": "6514ccb2-9d80-409d-900c-fb2ab4132e84",
   "metadata": {
    "tags": []
   },
   "outputs": [],
   "source": [
    "%%cpp_omp -o code/loops/nowait.cpp\n",
    "\n",
    "constexpr auto N = 1024;\n",
    "int vec[N];\n",
    "\n",
    "#pragma omp parallel\n",
    "{\n",
    "#pragma omp for nowait\n",
    "    for (auto i = 0; i < N / 2; ++i)\n",
    "        vec[i] = i;\n",
    "\n",
    "    //# no implicit barrier\n",
    "\n",
    "#pragma omp for nowait\n",
    "    for (auto i = N / 2; i < N; ++i)\n",
    "        vec[i] = i;\n",
    "}\n",
    "\n",
    "std::cout << vec[N - 1] << std::endl;"
   ]
  },
  {
   "cell_type": "markdown",
   "id": "bec2a43f-daa5-4c5d-a931-0c68c38b0667",
   "metadata": {},
   "source": [
    "In case of only a single loop parallel and for can be combined. This leads to even less code and also introduces only a single barrier."
   ]
  },
  {
   "cell_type": "code",
   "execution_count": null,
   "id": "5142b70d-5b91-485b-a6ee-d479aef49531",
   "metadata": {
    "tags": []
   },
   "outputs": [],
   "source": [
    "%%cpp_omp -o code/loops/parallel-for.cpp\n",
    "\n",
    "constexpr auto N = 1024;\n",
    "int vec[N];\n",
    "\n",
    "#pragma omp parallel for\n",
    "for (auto i = 0; i < N; ++i)\n",
    "    vec[i] = i;\n",
    "\n",
    "std::cout << vec[N - 1] << std::endl;"
   ]
  },
  {
   "cell_type": "markdown",
   "id": "ae307b6b-428a-4482-a6fd-0b52b43f9e4f",
   "metadata": {
    "tags": []
   },
   "source": [
    "## Scheduling"
   ]
  },
  {
   "cell_type": "markdown",
   "id": "46b3c169-e4a6-4c32-9510-c4c5bf36181d",
   "metadata": {
    "tags": []
   },
   "source": [
    "In our example, we divided the iteration space into equal sized chunks.\n",
    "OpenMP also supports this, as well as additional options ([OpenMP 5.1 - 2.11.4 - Table 2.5](https://www.openmp.org/spec-html/5.1/openmpsu48.html)):\n",
    "|                         |                                                                 |\n",
    "|-------------------------|-----------------------------------------------------------------|\n",
    "| `static[, chunk_size]`  | fixed size chunks, static thread mapping                        |\n",
    "| `dynamic[, chunk_size]` | fixed size chunks, dynamic (non-deterministic) thread mapping   |\n",
    "| `guided[, chunk_size]`  | gradually smaller chunk sizes, dynamic thread mapping           |\n",
    "| `auto`                  | implementation defined                                          |\n",
    "| `runtime`               | schedule chosen at runtime via the `OMP_SCHEDULE` env. variable |\n",
    "\n",
    "*static*, *dynamic* and *guided* support an optional chunk size - see below for details."
   ]
  },
  {
   "cell_type": "markdown",
   "id": "f32eb6e0",
   "metadata": {},
   "source": [
    "Let's start with a simple demo application introducing a severe load imbalance:\n",
    "* Each loop iteration represents work that scales linearly with the loop iteration number. In other words, we wait for `i` ms where `i` is the loop iterator.\n",
    "* We time time required for processing the whole loop.\n",
    "* We deliberately chose a number of threads << number of iterations to allow for different scheduling options."
   ]
  },
  {
   "cell_type": "code",
   "execution_count": null,
   "id": "ef397ebe-d506-4a1a-8c9e-85be67db6c6c",
   "metadata": {
    "tags": []
   },
   "outputs": [],
   "source": [
    "%%cpp_omp -o code/loops/def-schedule.cpp -t\n",
    "\n",
    "constexpr auto N = 128;\n",
    "\n",
    "#pragma omp parallel for num_threads(8)\n",
    "for (auto i = 0; i < N; ++i)\n",
    "    std::this_thread::sleep_for(std::chrono::milliseconds(i));"
   ]
  },
  {
   "cell_type": "markdown",
   "id": "7eb4e954-9225-407b-9f07-43b4578cada6",
   "metadata": {},
   "source": [
    "### Static"
   ]
  },
  {
   "cell_type": "markdown",
   "id": "9dda0911-ed9e-4509-8f0a-eae149116b6e",
   "metadata": {},
   "source": [
    "Chunks are distributed statically in a round-robin fashion.\n",
    "If chunk size is not defined, each threads gets exactly one chunk."
   ]
  },
  {
   "cell_type": "markdown",
   "id": "c77d8aac-ff43-49bb-b478-2674c91560bd",
   "metadata": {},
   "source": [
    "Possible execution for `schedule(static)`"
   ]
  },
  {
   "cell_type": "markdown",
   "id": "7e7ab4cb",
   "metadata": {},
   "source": [
    "\n",
    "<img src=\"img/loops/static.svg\" alt=\"static\" width=\"30%\"/>"
   ]
  },
  {
   "cell_type": "markdown",
   "id": "80fb4a79-37af-4f82-a6e1-e2345217aa83",
   "metadata": {
    "tags": []
   },
   "source": [
    "Alternative possiblity for `schedule(static)`"
   ]
  },
  {
   "cell_type": "markdown",
   "id": "e50c3454",
   "metadata": {},
   "source": [
    "\n",
    "<img src=\"img/loops/static-alt.svg\" alt=\"static-alternative\" width=\"30%\"/>"
   ]
  },
  {
   "cell_type": "markdown",
   "id": "4be9c052-06a1-492a-815f-8d294c088fa1",
   "metadata": {},
   "source": [
    "Possible execution for `schedule(static, 2)`"
   ]
  },
  {
   "cell_type": "markdown",
   "id": "02ad73cd",
   "metadata": {},
   "source": [
    "\n",
    "<img src=\"img/loops/static-2.svg\" alt=\"static(2)\" width=\"30%\"/>"
   ]
  },
  {
   "cell_type": "code",
   "execution_count": null,
   "id": "c701bb46-0b20-4627-aa7c-c032b783ee33",
   "metadata": {
    "tags": []
   },
   "outputs": [],
   "source": [
    "%%cpp_omp -o code/loops/static.cpp -t\n",
    "\n",
    "constexpr auto N = 128;\n",
    "\n",
    "#pragma omp parallel for num_threads(8) schedule(static, 16)\n",
    "for (auto i = 0; i < N; ++i)\n",
    "    std::this_thread::sleep_for(std::chrono::milliseconds(i));"
   ]
  },
  {
   "cell_type": "markdown",
   "id": "7a118f60-894c-4e0a-9fde-6c4ddb41bc2e",
   "metadata": {},
   "source": [
    "### Dynamic"
   ]
  },
  {
   "cell_type": "markdown",
   "id": "f734a52a-69e9-49ad-8cfa-c4ebabfd0455",
   "metadata": {},
   "source": [
    "Chunks are assigned to threads as soon as they become idle.\n",
    "The chunk size is one unless specified."
   ]
  },
  {
   "cell_type": "markdown",
   "id": "fa738ec2-7f17-4ae7-8ea0-470d98a4cc2f",
   "metadata": {},
   "source": [
    "Possible execution for `schedule(dynamic)`"
   ]
  },
  {
   "cell_type": "markdown",
   "id": "07b16466",
   "metadata": {},
   "source": [
    "\n",
    "<img src=\"img/loops/dynamic.svg\" alt=\"dynamic\" width=\"30%\"/>"
   ]
  },
  {
   "cell_type": "markdown",
   "id": "be66ed56-5289-490d-a2f6-16441a4d18ec",
   "metadata": {},
   "source": [
    "Possible execution for `schedule(dynamic, 2)`"
   ]
  },
  {
   "cell_type": "markdown",
   "id": "9a6fdbe0",
   "metadata": {},
   "source": [
    "\n",
    "<img src=\"img/loops/dynamic-2.svg\" alt=\"dynamic(2)\" width=\"30%\"/>"
   ]
  },
  {
   "cell_type": "code",
   "execution_count": null,
   "id": "5dd6ad7a-d3d1-4039-ba48-405a0b629144",
   "metadata": {
    "tags": []
   },
   "outputs": [],
   "source": [
    "%%cpp_omp -o code/loops/dynamic.cpp -t\n",
    "\n",
    "constexpr auto N = 128;\n",
    "\n",
    "#pragma omp parallel for num_threads(8) schedule(dynamic, 4)\n",
    "for (auto i = 0; i < N; ++i)\n",
    "    std::this_thread::sleep_for(std::chrono::milliseconds(i));"
   ]
  },
  {
   "cell_type": "markdown",
   "id": "5e88ae71-d7b1-4296-9757-a9823e2ed5db",
   "metadata": {},
   "source": [
    "### Guided"
   ]
  },
  {
   "cell_type": "markdown",
   "id": "2b56a3c9-629c-4180-a35d-d9c3cd87660d",
   "metadata": {},
   "source": [
    "The chunk size gets gradually smaller until a smalles chunk size.\n",
    "Its default value is 1 unless overwritten by specifying a chunk size."
   ]
  },
  {
   "cell_type": "markdown",
   "id": "a2093295-7eb8-43cb-9fbd-f2550b1c55e8",
   "metadata": {},
   "source": [
    "Possible execution for `schedule(guided)`"
   ]
  },
  {
   "cell_type": "markdown",
   "id": "5f1e2fa7",
   "metadata": {},
   "source": [
    "\n",
    "<img src=\"img/loops/guided.svg\" alt=\"guided\" width=\"30%\"/>"
   ]
  },
  {
   "cell_type": "code",
   "execution_count": null,
   "id": "a6a6c90e-737a-4790-aeac-5354438b68a5",
   "metadata": {
    "tags": []
   },
   "outputs": [],
   "source": [
    "%%cpp_omp -o code/loops/guided.cpp -t\n",
    "\n",
    "constexpr auto N = 128;\n",
    "\n",
    "#pragma omp parallel for num_threads(8) schedule(guided)\n",
    "for (auto i = 0; i < N; ++i)\n",
    "    std::this_thread::sleep_for(std::chrono::milliseconds(i));"
   ]
  },
  {
   "cell_type": "markdown",
   "id": "e26897cd-a5f6-4bc1-9540-42ff33dc74ef",
   "metadata": {},
   "source": [
    "### Runtime\n",
    "\n",
    "The schedule is set at runtime via the environment variable `OMP_SCHEDULE` ([OpenMP 5.1 - 6.1](https://www.openmp.org/spec-html/5.1/openmpse58.html)).\n",
    "\n",
    "Alternatively, the schedule to be used can be set by calling `omp_set_schedule(omp_sched_t kind, int chunk_size)` ([OpenMP 5.1 - 3.2.11](https://www.openmp.org/spec-html/5.1/openmpsu130.html)).\n",
    "To query the runtime schedule, the `omp_get_schedule(omp_sched_t *kind, int *chunk_size)` function can be used ([OpenMP 5.1 - 3.2.12](https://www.openmp.org/spec-html/5.1/openmpsu131.html))."
   ]
  },
  {
   "cell_type": "code",
   "execution_count": null,
   "id": "c5086b7e-acd9-4468-81f0-7fc03d52c920",
   "metadata": {
    "tags": []
   },
   "outputs": [],
   "source": [
    "%%cpp_omp -o code/loops/runtime.cpp -t -e OMP_SCHEDULE=dynamic,12 -v\n",
    "\n",
    "constexpr auto N = 128;\n",
    "\n",
    "#pragma omp parallel for num_threads(8) schedule(runtime)\n",
    "for (auto i = 0; i < N; ++i)\n",
    "    std::this_thread::sleep_for(std::chrono::milliseconds(i));"
   ]
  },
  {
   "cell_type": "code",
   "execution_count": null,
   "id": "7e1e9ada",
   "metadata": {},
   "outputs": [],
   "source": [
    "%%cpp_omp -o code/loops/print-schedule.cpp -t -e OMP_SCHEDULE=dynamic,12 -v\n",
    "\n",
    "//# print schedule\n",
    "omp_sched_t kind;\n",
    "int chunk_size;\n",
    "omp_get_schedule(&kind, &chunk_size);\n",
    "std::cout << \"Kind: \" << kind << \" ; Chunk Size: \" << chunk_size << std::endl;"
   ]
  },
  {
   "cell_type": "markdown",
   "id": "c19224ac",
   "metadata": {},
   "source": [
    "Note that `omp_sched_t` is an enum with the following (as well as additional) options\n",
    "```cpp\n",
    "  omp_sched_static  = 0x1, \n",
    "  omp_sched_dynamic = 0x2, \n",
    "  omp_sched_guided  = 0x3, \n",
    "  omp_sched_auto    = 0x4, \n",
    "```"
   ]
  },
  {
   "cell_type": "markdown",
   "id": "9511d19b-a6a8-424c-8da1-2cac506fe9f5",
   "metadata": {},
   "source": [
    "### Summary"
   ]
  },
  {
   "cell_type": "markdown",
   "id": "47dd4e54-a2ba-472e-b0e4-69be6e4b2fd0",
   "metadata": {},
   "source": [
    "| schedule  | works well when ...                                                    |\n",
    "|-----------|------------------------------------------------------------------------|\n",
    "| `static`  | ... each loop iteration roughly takes the same amount of time          |\n",
    "| `dynamic` | ... a strong load imbalance between loop iterations exists             |\n",
    "| `guided`  | ... load imbalances exist, but performance benefits from larger chunks |\n",
    "| `auto`    | ...                                                                    |\n",
    "| `runtime` | ... different schedules are to be evaluated with a single binary       |"
   ]
  },
  {
   "cell_type": "markdown",
   "id": "205b3721-fd7f-41f6-b5c0-c53d574e72f3",
   "metadata": {
    "tags": []
   },
   "source": [
    "## Exercise: Stream Benchmark"
   ]
  },
  {
   "cell_type": "markdown",
   "id": "cae0d1bf-ecf3-422b-bc40-9d0d60425a47",
   "metadata": {
    "tags": []
   },
   "source": [
    "<div class=\"alert alert-block alert-success\"> <b>Exercise:</b> Investigate different schedules. </div>"
   ]
  },
  {
   "cell_type": "markdown",
   "id": "f914bc9f-280e-40f3-a142-c9553a9ca3fc",
   "metadata": {},
   "source": [
    "Check the code for the stream benchmark application at [code/examples/stream.cpp](code/examples/stream.cpp) and the documentation in the [examples notebook](examples.ipynb#Stream-Benchmark).\n",
    "For convenience, the cells for building and executing are copied below.\n",
    "\\\n",
    "Parallelize the application and investigate performance by following these steps:\n",
    "* Enable OpenMP in the compilation\n",
    "* Parallelize the stream benchmark\n",
    "    * Verify that the result is still correct\n",
    "* Investigate the effect of applying different schedules\n",
    "    * Either edit the code or use the runtime schedule\n",
    "    * Document your findings\n",
    "* Which configuration yields the highest performance?\n",
    "* Is the observed bandwidth stable across iterations?"
   ]
  },
  {
   "cell_type": "markdown",
   "id": "a71a538c-44ef-4d22-a05a-d85c8d51d218",
   "metadata": {},
   "source": [
    "You will likely see different effects that, depending on you background, may not match your expectations.\n",
    "We will continue covering some of them in the [performance notebook](performance.ipynb)."
   ]
  },
  {
   "cell_type": "code",
   "execution_count": null,
   "id": "c047d1c8-7508-4cca-9e0a-12274aa6cb47",
   "metadata": {
    "tags": []
   },
   "outputs": [],
   "source": [
    "!g++ -O3 -std=c++17 -Wall -o code/examples/stream code/examples/stream.cpp"
   ]
  },
  {
   "cell_type": "code",
   "execution_count": null,
   "id": "59121808-4d2b-40aa-9c9b-4360a7fc9879",
   "metadata": {
    "tags": []
   },
   "outputs": [],
   "source": [
    "!code/examples/stream $((32 * 1024 * 1024)) 8"
   ]
  },
  {
   "cell_type": "markdown",
   "id": "2b2c1f18-7e67-490b-bb9e-6be4e49315de",
   "metadata": {
    "tags": []
   },
   "source": [
    "### Solution"
   ]
  },
  {
   "cell_type": "markdown",
   "id": "0b3db7ce-af6a-4a4b-9c84-29c9796828d1",
   "metadata": {
    "tags": []
   },
   "source": [
    "You can find one possible solution at [code/solutions/loops/stream.cpp](code/solutions/loops/stream.cpp).\n",
    "The following cells evaluate different scheduling strategies."
   ]
  },
  {
   "cell_type": "code",
   "execution_count": null,
   "id": "0fd68f56-44b6-4ed4-864b-20fa1d7a8bb7",
   "metadata": {
    "tags": []
   },
   "outputs": [],
   "source": [
    "!g++ -O3 -std=c++17 -Wall -fopenmp -o code/solutions/loops/stream code/solutions/loops/stream.cpp"
   ]
  },
  {
   "cell_type": "code",
   "execution_count": null,
   "id": "744292bb-be59-44a5-9487-ea9cf1cbfe65",
   "metadata": {
    "tags": []
   },
   "outputs": [],
   "source": [
    "!OMP_SCHEDULE=static code/solutions/loops/stream $((32 * 1024 * 1024)) 8"
   ]
  },
  {
   "cell_type": "code",
   "execution_count": null,
   "id": "51d099d6-28d6-4278-a416-92fc4788d545",
   "metadata": {
    "tags": []
   },
   "outputs": [],
   "source": [
    "!OMP_SCHEDULE=guided,1024 code/solutions/loops/stream $((32 * 1024 * 1024)) 8"
   ]
  },
  {
   "cell_type": "code",
   "execution_count": null,
   "id": "4fcabe00-90a0-4442-8ed9-d13b04cc7597",
   "metadata": {
    "tags": []
   },
   "outputs": [],
   "source": [
    "!OMP_SCHEDULE=dynamic,16384 code/solutions/loops/stream $((32 * 1024 * 1024)) 8"
   ]
  },
  {
   "cell_type": "markdown",
   "id": "78937176-154c-48bb-98af-81ad3b3fd43b",
   "metadata": {
    "tags": []
   },
   "source": [
    "## Nested Loops"
   ]
  },
  {
   "cell_type": "markdown",
   "id": "9d83d62f-081c-4860-9494-8e9b18b75c67",
   "metadata": {
    "tags": []
   },
   "source": [
    "OpenMP allows collapsing multiple nested loops into one logical iteration space with the `collapse(n)` clause where `n` is the number of loops to collapse.\n",
    "This can be useful when\n",
    "* the outer loop length is not sufficiently large to satisfy the available number of threads,\n",
    "* or in case of load imbalances,\n",
    "* or for offloading work to a [target](target-offloading.ipynb).\n",
    "\n",
    "If no collapse clause is specified, an implicit `collapse(1)` is assumed."
   ]
  },
  {
   "cell_type": "markdown",
   "id": "3f101911-12a7-42d4-820b-b705a819d024",
   "metadata": {
    "tags": []
   },
   "source": [
    "### Base Case"
   ]
  },
  {
   "cell_type": "code",
   "execution_count": null,
   "id": "8646c7e6-a0d2-4b0d-a4d2-def509866d8e",
   "metadata": {
    "tags": []
   },
   "outputs": [],
   "source": [
    "%%cpp_omp -o code/loops/nested.cpp -t\n",
    "\n",
    "constexpr auto N = 4, M = 4;\n",
    "\n",
    "#pragma omp parallel for num_threads(8) // collapse(1)\n",
    "for (auto i = 0; i < N; ++i) {\n",
    "    for (auto j = 0; j < M; ++j) {\n",
    "        std::this_thread::sleep_for(std::chrono::milliseconds(j * N + i));\n",
    "        std::cout << \"i = \" << i << \", j = \" << j << \", threadId = \" << omp_get_thread_num() << std::endl;\n",
    "    }\n",
    "}"
   ]
  },
  {
   "cell_type": "markdown",
   "id": "c49b4e20-a749-493e-affb-67368e29c954",
   "metadata": {},
   "source": [
    "### Collapse with Default Scheduling"
   ]
  },
  {
   "cell_type": "code",
   "execution_count": null,
   "id": "fec8d6a8-9bc0-4618-a752-ec6ddde80fd4",
   "metadata": {
    "tags": []
   },
   "outputs": [],
   "source": [
    "%%cpp_omp -o code/loops/collapse.cpp -t\n",
    "\n",
    "constexpr auto N = 4, M = 4;\n",
    "\n",
    "#pragma omp parallel for num_threads(8) collapse(2)\n",
    "for (auto i = 0; i < N; ++i) {\n",
    "    for (auto j = 0; j < M; ++j) {\n",
    "        std::this_thread::sleep_for(std::chrono::milliseconds(j * N + i));\n",
    "        std::cout << \"i = \" << i << \", j = \" << j << \", threadId = \" << omp_get_thread_num() << std::endl;\n",
    "    }\n",
    "}"
   ]
  },
  {
   "cell_type": "markdown",
   "id": "a82471e6-7cc9-4535-88ff-4bccc5b190ac",
   "metadata": {},
   "source": [
    "### Collapse with Dynamic Scheduling"
   ]
  },
  {
   "cell_type": "code",
   "execution_count": null,
   "id": "fb9d3cf1-387f-4836-be9c-624a1f59e08c",
   "metadata": {
    "tags": []
   },
   "outputs": [],
   "source": [
    "%%cpp_omp -o code/loops/collapse-dynamic.cpp -t\n",
    "\n",
    "constexpr auto N = 4, M = 4;\n",
    "\n",
    "#pragma omp parallel for num_threads(8) collapse(2) schedule(dynamic)\n",
    "for (auto i = 0; i < N; ++i) {\n",
    "    for (auto j = 0; j < M; ++j) {\n",
    "        std::this_thread::sleep_for(std::chrono::milliseconds(j * N + i));\n",
    "        std::cout << \"i = \" << i << \", j = \" << j << \", threadId = \" << omp_get_thread_num() << std::endl;\n",
    "    }\n",
    "}"
   ]
  },
  {
   "cell_type": "markdown",
   "id": "c708bbbf-5fd2-4935-92cb-d8e0ba51a038",
   "metadata": {},
   "source": [
    "### Restrictions"
   ]
  },
  {
   "cell_type": "markdown",
   "id": "4a191035-0bdf-4957-833f-e75900d0f03f",
   "metadata": {},
   "source": [
    "1. Loops must be perfectly nested."
   ]
  },
  {
   "cell_type": "code",
   "execution_count": null,
   "id": "9fd37084",
   "metadata": {},
   "outputs": [],
   "source": [
    "%%cpp_omp -o code/loops/wrong-nest.cpp -t\n",
    "\n",
    "constexpr auto N = 4, M = 32;\n",
    "\n",
    "#pragma omp parallel for num_threads(8) collapse(2) schedule(dynamic)\n",
    "for (auto i = 0; i < N; ++i) {\n",
    "    int someCode = 0;\n",
    "    for (auto j = 0; j < M; ++j)\n",
    "        std::this_thread::sleep_for(std::chrono::milliseconds(j * N + i));\n",
    "}"
   ]
  },
  {
   "cell_type": "markdown",
   "id": "677ac762",
   "metadata": {},
   "source": [
    "2. Loops must form a rectangular iterations space."
   ]
  },
  {
   "cell_type": "code",
   "execution_count": null,
   "id": "a6d3e234",
   "metadata": {},
   "outputs": [],
   "source": [
    "%%cpp_omp -o code/loops/non-rect.cpp -t\n",
    "\n",
    "constexpr auto N = 16;\n",
    "\n",
    "#pragma omp parallel for num_threads(8) collapse(2) schedule(dynamic)\n",
    "for (auto i = 0; i < N; ++i) {\n",
    "    for (auto j = 0; j < i; ++j)\n",
    "        std::this_thread::sleep_for(std::chrono::milliseconds(j * N + i));\n",
    "}"
   ]
  },
  {
   "cell_type": "markdown",
   "id": "11a09eb0-238c-4343-9137-ebb7c1e7705b",
   "metadata": {
    "tags": []
   },
   "source": [
    "## lastprivate"
   ]
  },
  {
   "cell_type": "markdown",
   "id": "374be251-c2eb-44e8-8ff8-443ad49eb065",
   "metadata": {
    "tags": []
   },
   "source": [
    "Adding the `lastprivate` clause for a variable to a worksharing loop construct\n",
    "* privatizes that variable, and\n",
    "* stores the result of the *last iteration* in the original variable upon finishing the loop."
   ]
  },
  {
   "cell_type": "code",
   "execution_count": null,
   "id": "bbb38b5f",
   "metadata": {},
   "outputs": [],
   "source": [
    "%%cpp_omp -o code/loops/lastprivate.cpp\n",
    "\n",
    "constexpr auto N = 1024;\n",
    "int vec[N];\n",
    "\n",
    "int last;\n",
    "\n",
    "# pragma omp parallel for lastprivate(last)\n",
    "    for (auto i = 0; i < 1024; ++i) {\n",
    "        vec[i] = i;\n",
    "        last = i;\n",
    "    }\n",
    "\n",
    "std::cout << last << \" should be \" << vec[N - 1] << std::endl;"
   ]
  },
  {
   "cell_type": "markdown",
   "id": "a37cbae5-4cec-428d-9c6f-88bd86126455",
   "metadata": {
    "tags": []
   },
   "source": [
    "## Loop Form"
   ]
  },
  {
   "cell_type": "markdown",
   "id": "56fa1f92-6504-4081-a34f-e1210beae261",
   "metadata": {
    "tags": []
   },
   "source": [
    "OpenMP requires a *canonical loop nest form* ([OpenMP 5.1 - 2.11.1](https://www.openmp.org/spec-html/5.1/openmpsu45.html)).\n",
    "It is either\n",
    "* `for (init-expr; test-expr; incr-expr)`, or\n",
    "* `for (range-decl: range-expr)` (OpenMP $\\ge$ 5.0)\n",
    "\n",
    "with a number of restrictions.\n",
    "Most notably\n",
    "\n",
    "* loop iterators need to be of integer, pointer or random access iterator type,\n",
    "* increments must be linear, and\n",
    "* multiple loop counters are not supported."
   ]
  },
  {
   "cell_type": "markdown",
   "id": "4c3a4004-b2eb-4068-beb6-de2a970cdcb8",
   "metadata": {
    "tags": []
   },
   "source": [
    "### Valid Examples"
   ]
  },
  {
   "cell_type": "code",
   "execution_count": null,
   "id": "fe16041e",
   "metadata": {},
   "outputs": [],
   "source": [
    "%%cpp_omp -o code/loops/loop-form-valid.cpp -i vector\n",
    "\n",
    "std::vector<int> vec = {1, 2, 3, 4, 5, 6, 7, 8, 9, 10};\n",
    "\n",
    "#pragma omp parallel for\n",
    "for (size_t i = 0; i < vec.size(); ++i)\n",
    "    vec[i] += 10;\n",
    "\n",
    "#pragma omp parallel for\n",
    "for (auto it = vec.begin(); it != vec.end(); ++it)\n",
    "    *it += 10;\n",
    "\n",
    "#pragma omp parallel for\n",
    "for (auto& val : vec)\n",
    "    val += 10;\n",
    "\n",
    "for (const auto& val : vec)\n",
    "    std::cout << val << \" \";\n",
    "std::cout << std::endl;"
   ]
  },
  {
   "cell_type": "markdown",
   "id": "7afe8d91-2c8e-4b88-af73-17e47a04c6cc",
   "metadata": {},
   "source": [
    "### Invalid Examples"
   ]
  },
  {
   "cell_type": "code",
   "execution_count": null,
   "id": "daa30439-2de0-42ea-8bfd-0129fd6d2131",
   "metadata": {
    "tags": []
   },
   "outputs": [],
   "source": [
    "%%cpp_omp -o code/loops/loop-form-invalid.cpp -i vector\n",
    "\n",
    "std::vector<int> vec = {1, 2, 3, 4, 5, 6, 7, 8, 9, 10};\n",
    "\n",
    "//#pragma omp parallel for\n",
    "//for (float i = 0; i < vec.size(); ++i)\n",
    "//    vec[i] += 10;\n",
    "\n",
    "//#pragma omp parallel for\n",
    "//for (size_t i = 1; i < vec.size(); i *= 2)\n",
    "//    vec[i] += 10;\n",
    "\n",
    "//auto test = [&](size_t i){return i < vec.size();};\n",
    "//#pragma omp parallel for\n",
    "//for (size_t i = 0; test(i); ++i)\n",
    "//    vec[i] += 10;\n",
    "\n",
    "//#pragma omp parallel for\n",
    "//for (size_t i = 0, j = 1; i < vec.size(); ++i, ++j)\n",
    "//    vec[i] += 10;\n",
    "\n",
    "for (const auto& val : vec)\n",
    "    std::cout << val << \" \";\n",
    "std::cout << std::endl;"
   ]
  },
  {
   "cell_type": "markdown",
   "id": "81dea1db-3fa8-4df4-aa62-1d7067656569",
   "metadata": {
    "tags": []
   },
   "source": [
    "## Exercise: 2D Stencil Benchmark"
   ]
  },
  {
   "cell_type": "markdown",
   "id": "8bd24f0a-db8a-46ed-a03f-a99bebdc59d4",
   "metadata": {
    "tags": []
   },
   "source": [
    "<div class=\"alert alert-block alert-success\"> <b>Exercise:</b> Investigate different loop parallelizations. </div>"
   ]
  },
  {
   "cell_type": "markdown",
   "id": "dfeb8495-ebd7-4d87-bf8b-99c899bf41db",
   "metadata": {},
   "source": [
    "Check the code for the 2D stencil application at [code/examples/stencil-2d.cpp](code/examples/stencil-2d.cpp) and the documentation in the [examples notebook](examples.ipynb#2D-Stencil).\n",
    "For convenience, the cells for building and executing are copied below.\n",
    "\\\n",
    "Parallelize the application and investigate performance by following these steps similar to the last exercise:\n",
    "* Enable OpenMP in the compilation\n",
    "* Parallelize the stencil code\n",
    "    * Verify that the result match those of the serial version\n",
    "* Investigate the effect of different loop parallelizations\n",
    "    * Outer loop parallelization\n",
    "    * Inner loop parallelization\n",
    "    * Collapsed loop parallelization\n",
    "* Which configuration yields the highest performance?"
   ]
  },
  {
   "cell_type": "markdown",
   "id": "26ddf116-907f-4224-b4af-8dc6f447e61a",
   "metadata": {},
   "source": [
    "As in the last exercise, not all effects might be fully understandable yet and some of them will be covered in the [performance notebook](performance.ipynb)."
   ]
  },
  {
   "cell_type": "code",
   "execution_count": null,
   "id": "4a7328a9-8a6f-46c1-81e7-69fa79ce9e4a",
   "metadata": {
    "tags": []
   },
   "outputs": [],
   "source": [
    "!g++ -O3 -std=c++17 -Wall -o code/examples/stencil-2d code/examples/stencil-2d.cpp"
   ]
  },
  {
   "cell_type": "code",
   "execution_count": null,
   "id": "01fbab0a-5fc9-4fc3-8bf1-809e2e130583",
   "metadata": {
    "tags": []
   },
   "outputs": [],
   "source": [
    "!code/examples/stencil-2d 4096 4096 64"
   ]
  },
  {
   "cell_type": "markdown",
   "id": "47d5b42f-2505-4d75-9191-838384504455",
   "metadata": {},
   "source": [
    "### Solution"
   ]
  },
  {
   "cell_type": "markdown",
   "id": "5fe8fce6-93b1-4aa9-be49-ba5743b58a7c",
   "metadata": {},
   "source": [
    "You can find possible solutions at\n",
    "* [code/solutions/loops/stencil-2d-outer.cpp](code/solutions/loops/stencil-2d-outer.cpp),\n",
    "* [code/solutions/loops/stencil-2d-inner.cpp](code/solutions/loops/stencil-2d-inner.cpp), and\n",
    "* [code/solutions/loops/stencil-2d-collapse.cpp](code/solutions/loops/stencil-2d-collapse.cpp)."
   ]
  },
  {
   "cell_type": "code",
   "execution_count": null,
   "id": "241244f8-100f-46d1-a772-3e6406be3c39",
   "metadata": {
    "tags": []
   },
   "outputs": [],
   "source": [
    "!g++ -O3 -std=c++17 -Wall -fopenmp -o code/solutions/loops/stencil-2d-outer code/solutions/loops/stencil-2d-outer.cpp\n",
    "!code/solutions/loops/stencil-2d-outer 4096 4096 64"
   ]
  },
  {
   "cell_type": "code",
   "execution_count": null,
   "id": "a9efec58-0593-4924-9bd8-781682459f6d",
   "metadata": {
    "tags": []
   },
   "outputs": [],
   "source": [
    "!g++ -O3 -std=c++17 -Wall -fopenmp -o code/solutions/loops/stencil-2d-inner code/solutions/loops/stencil-2d-inner.cpp\n",
    "!code/solutions/loops/stencil-2d-inner 4096 4096 64"
   ]
  },
  {
   "cell_type": "code",
   "execution_count": null,
   "id": "b2c30066-c12c-423b-bfdf-56a2be80c106",
   "metadata": {
    "tags": []
   },
   "outputs": [],
   "source": [
    "!g++ -O3 -std=c++17 -Wall -fopenmp -o code/solutions/loops/stencil-2d-collapse code/solutions/loops/stencil-2d-collapse.cpp\n",
    "!code/solutions/loops/stencil-2d-collapse 4096 4096 64"
   ]
  },
  {
   "cell_type": "markdown",
   "id": "58c7f902",
   "metadata": {},
   "source": [
    "## Exercise: Julia Set"
   ]
  },
  {
   "cell_type": "markdown",
   "id": "6344eb58",
   "metadata": {},
   "source": [
    "<div class=\"alert alert-block alert-success\"> <b>Exercise:</b> Investigate different loop parallelizations. </div>"
   ]
  },
  {
   "cell_type": "markdown",
   "id": "1ba36010",
   "metadata": {},
   "source": [
    "Check the code for the Julia set application at [code/examples/julia-set.cpp](code/examples/julia-set.cpp) and the documentation in the [examples notebook](examples.ipynb#Julia-Set).\n",
    "For convenience, the cells for building and executing are copied below.\n",
    "\\\n",
    "Parallelize the application and investigate performance by following these steps similar to the last exercise:\n",
    "* Enable OpenMP in the compilation\n",
    "* Parallelize the main loop\n",
    "    * Verify that the result match those of the serial version\n",
    "* Investigate the effect of different loop parallelizations and schedules\n",
    "* Which configuration yields the highest performance?"
   ]
  },
  {
   "cell_type": "code",
   "execution_count": null,
   "id": "8f5e2148",
   "metadata": {},
   "outputs": [],
   "source": [
    "!g++ -O3 -std=c++17 -Wall -o code/examples/julia-set code/examples/julia-set.cpp code/examples/lodepng.cpp"
   ]
  },
  {
   "cell_type": "code",
   "execution_count": null,
   "id": "bdf1d4f1",
   "metadata": {},
   "outputs": [],
   "source": [
    "!code/examples/julia-set"
   ]
  },
  {
   "cell_type": "markdown",
   "id": "8592eb1c",
   "metadata": {},
   "source": [
    "The output image can be displayed using this cell."
   ]
  },
  {
   "cell_type": "code",
   "execution_count": null,
   "id": "e107a10c",
   "metadata": {},
   "outputs": [],
   "source": [
    "from IPython.display import display, Image\n",
    "display(Image(filename='julia.png', width=512, height=512))"
   ]
  },
  {
   "cell_type": "markdown",
   "id": "545cc11f",
   "metadata": {},
   "source": [
    "### Solution"
   ]
  },
  {
   "cell_type": "markdown",
   "id": "8e750c1c",
   "metadata": {},
   "source": [
    "You can find possible solutions at [code/solutions/loops/julia-set.cpp](code/solutions/loops/julia-set.cpp)."
   ]
  },
  {
   "cell_type": "code",
   "execution_count": null,
   "id": "ab4f7293",
   "metadata": {},
   "outputs": [],
   "source": [
    "!g++ -O3 -std=c++17 -Wall -o code/solution/loops/julia-set code/solution/loops/julia-set.cpp code/examples/lodepng.cpp\n",
    "!OMP_SCHEDULE=static code/solution/loops/julia-set\n",
    "!OMP_SCHEDULE=dynamic code/solution/loops/julia-set\n",
    "!OMP_SCHEDULE=guided code/solution/loops/julia-set"
   ]
  }
 ],
 "metadata": {
  "kernelspec": {
   "display_name": "Python 3.11 (ipykernel)",
   "language": "python",
   "name": "python3"
  },
  "language_info": {
   "codemirror_mode": {
    "name": "ipython",
    "version": 3
   },
   "file_extension": ".py",
   "mimetype": "text/x-python",
   "name": "python",
   "nbconvert_exporter": "python",
   "pygments_lexer": "ipython3",
   "version": "3.11.0"
  }
 },
 "nbformat": 4,
 "nbformat_minor": 5
}
